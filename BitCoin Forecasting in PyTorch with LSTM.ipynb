{
 "cells": [
  {
   "cell_type": "markdown",
   "metadata": {},
   "source": [
    "## BitCoin Forecasting in PyTorch with LSTM"
   ]
  },
  {
   "cell_type": "code",
   "execution_count": 166,
   "metadata": {},
   "outputs": [
    {
     "data": {
      "text/html": [
       "<div>\n",
       "<style scoped>\n",
       "    .dataframe tbody tr th:only-of-type {\n",
       "        vertical-align: middle;\n",
       "    }\n",
       "\n",
       "    .dataframe tbody tr th {\n",
       "        vertical-align: top;\n",
       "    }\n",
       "\n",
       "    .dataframe thead th {\n",
       "        text-align: right;\n",
       "    }\n",
       "</style>\n",
       "<table border=\"1\" class=\"dataframe\">\n",
       "  <thead>\n",
       "    <tr style=\"text-align: right;\">\n",
       "      <th></th>\n",
       "      <th>Date</th>\n",
       "      <th>Open</th>\n",
       "      <th>High</th>\n",
       "      <th>Low</th>\n",
       "      <th>Close</th>\n",
       "      <th>Adj Close</th>\n",
       "      <th>Volume</th>\n",
       "    </tr>\n",
       "  </thead>\n",
       "  <tbody>\n",
       "    <tr>\n",
       "      <th>0</th>\n",
       "      <td>2020-01-01</td>\n",
       "      <td>7194.892090</td>\n",
       "      <td>7254.330566</td>\n",
       "      <td>7174.944336</td>\n",
       "      <td>7200.174316</td>\n",
       "      <td>7200.174316</td>\n",
       "      <td>18565664997</td>\n",
       "    </tr>\n",
       "    <tr>\n",
       "      <th>1</th>\n",
       "      <td>2020-01-02</td>\n",
       "      <td>7202.551270</td>\n",
       "      <td>7212.155273</td>\n",
       "      <td>6935.270020</td>\n",
       "      <td>6985.470215</td>\n",
       "      <td>6985.470215</td>\n",
       "      <td>20802083465</td>\n",
       "    </tr>\n",
       "    <tr>\n",
       "      <th>2</th>\n",
       "      <td>2020-01-03</td>\n",
       "      <td>6984.428711</td>\n",
       "      <td>7413.715332</td>\n",
       "      <td>6914.996094</td>\n",
       "      <td>7344.884277</td>\n",
       "      <td>7344.884277</td>\n",
       "      <td>28111481032</td>\n",
       "    </tr>\n",
       "    <tr>\n",
       "      <th>3</th>\n",
       "      <td>2020-01-04</td>\n",
       "      <td>7345.375488</td>\n",
       "      <td>7427.385742</td>\n",
       "      <td>7309.514160</td>\n",
       "      <td>7410.656738</td>\n",
       "      <td>7410.656738</td>\n",
       "      <td>18444271275</td>\n",
       "    </tr>\n",
       "    <tr>\n",
       "      <th>4</th>\n",
       "      <td>2020-01-05</td>\n",
       "      <td>7410.451660</td>\n",
       "      <td>7544.497070</td>\n",
       "      <td>7400.535645</td>\n",
       "      <td>7411.317383</td>\n",
       "      <td>7411.317383</td>\n",
       "      <td>19725074095</td>\n",
       "    </tr>\n",
       "    <tr>\n",
       "      <th>...</th>\n",
       "      <td>...</td>\n",
       "      <td>...</td>\n",
       "      <td>...</td>\n",
       "      <td>...</td>\n",
       "      <td>...</td>\n",
       "      <td>...</td>\n",
       "      <td>...</td>\n",
       "    </tr>\n",
       "    <tr>\n",
       "      <th>1548</th>\n",
       "      <td>2024-03-28</td>\n",
       "      <td>69452.773438</td>\n",
       "      <td>71546.023438</td>\n",
       "      <td>68895.507813</td>\n",
       "      <td>70744.953125</td>\n",
       "      <td>70744.953125</td>\n",
       "      <td>34374900617</td>\n",
       "    </tr>\n",
       "    <tr>\n",
       "      <th>1549</th>\n",
       "      <td>2024-03-29</td>\n",
       "      <td>70744.796875</td>\n",
       "      <td>70913.093750</td>\n",
       "      <td>69076.656250</td>\n",
       "      <td>69892.828125</td>\n",
       "      <td>69892.828125</td>\n",
       "      <td>25230851763</td>\n",
       "    </tr>\n",
       "    <tr>\n",
       "      <th>1550</th>\n",
       "      <td>2024-03-30</td>\n",
       "      <td>69893.445313</td>\n",
       "      <td>70355.492188</td>\n",
       "      <td>69601.062500</td>\n",
       "      <td>69645.304688</td>\n",
       "      <td>69645.304688</td>\n",
       "      <td>17130241883</td>\n",
       "    </tr>\n",
       "    <tr>\n",
       "      <th>1551</th>\n",
       "      <td>2024-03-31</td>\n",
       "      <td>69647.781250</td>\n",
       "      <td>71377.781250</td>\n",
       "      <td>69624.867188</td>\n",
       "      <td>71333.648438</td>\n",
       "      <td>71333.648438</td>\n",
       "      <td>20050941373</td>\n",
       "    </tr>\n",
       "    <tr>\n",
       "      <th>1552</th>\n",
       "      <td>2024-04-01</td>\n",
       "      <td>71312.171875</td>\n",
       "      <td>71312.171875</td>\n",
       "      <td>69220.796875</td>\n",
       "      <td>69539.515625</td>\n",
       "      <td>69539.515625</td>\n",
       "      <td>26209271808</td>\n",
       "    </tr>\n",
       "  </tbody>\n",
       "</table>\n",
       "<p>1553 rows × 7 columns</p>\n",
       "</div>"
      ],
      "text/plain": [
       "            Date          Open          High           Low         Close  \\\n",
       "0     2020-01-01   7194.892090   7254.330566   7174.944336   7200.174316   \n",
       "1     2020-01-02   7202.551270   7212.155273   6935.270020   6985.470215   \n",
       "2     2020-01-03   6984.428711   7413.715332   6914.996094   7344.884277   \n",
       "3     2020-01-04   7345.375488   7427.385742   7309.514160   7410.656738   \n",
       "4     2020-01-05   7410.451660   7544.497070   7400.535645   7411.317383   \n",
       "...          ...           ...           ...           ...           ...   \n",
       "1548  2024-03-28  69452.773438  71546.023438  68895.507813  70744.953125   \n",
       "1549  2024-03-29  70744.796875  70913.093750  69076.656250  69892.828125   \n",
       "1550  2024-03-30  69893.445313  70355.492188  69601.062500  69645.304688   \n",
       "1551  2024-03-31  69647.781250  71377.781250  69624.867188  71333.648438   \n",
       "1552  2024-04-01  71312.171875  71312.171875  69220.796875  69539.515625   \n",
       "\n",
       "         Adj Close       Volume  \n",
       "0      7200.174316  18565664997  \n",
       "1      6985.470215  20802083465  \n",
       "2      7344.884277  28111481032  \n",
       "3      7410.656738  18444271275  \n",
       "4      7411.317383  19725074095  \n",
       "...            ...          ...  \n",
       "1548  70744.953125  34374900617  \n",
       "1549  69892.828125  25230851763  \n",
       "1550  69645.304688  17130241883  \n",
       "1551  71333.648438  20050941373  \n",
       "1552  69539.515625  26209271808  \n",
       "\n",
       "[1553 rows x 7 columns]"
      ]
     },
     "execution_count": 166,
     "metadata": {},
     "output_type": "execute_result"
    }
   ],
   "source": [
    "import pandas as pd \n",
    "import matplotlib.pyplot as plt\n",
    "import numpy as np\n",
    " \n",
    "import torch\n",
    "import torch.nn as nn\n",
    "\n",
    "data = pd.read_csv('BTC-USD.csv')\n",
    "data"
   ]
  },
  {
   "cell_type": "code",
   "execution_count": 167,
   "metadata": {},
   "outputs": [
    {
     "data": {
      "text/html": [
       "<div>\n",
       "<style scoped>\n",
       "    .dataframe tbody tr th:only-of-type {\n",
       "        vertical-align: middle;\n",
       "    }\n",
       "\n",
       "    .dataframe tbody tr th {\n",
       "        vertical-align: top;\n",
       "    }\n",
       "\n",
       "    .dataframe thead th {\n",
       "        text-align: right;\n",
       "    }\n",
       "</style>\n",
       "<table border=\"1\" class=\"dataframe\">\n",
       "  <thead>\n",
       "    <tr style=\"text-align: right;\">\n",
       "      <th></th>\n",
       "      <th>Date</th>\n",
       "      <th>Close</th>\n",
       "    </tr>\n",
       "  </thead>\n",
       "  <tbody>\n",
       "    <tr>\n",
       "      <th>0</th>\n",
       "      <td>2020-01-01</td>\n",
       "      <td>7200.174316</td>\n",
       "    </tr>\n",
       "    <tr>\n",
       "      <th>1</th>\n",
       "      <td>2020-01-02</td>\n",
       "      <td>6985.470215</td>\n",
       "    </tr>\n",
       "    <tr>\n",
       "      <th>2</th>\n",
       "      <td>2020-01-03</td>\n",
       "      <td>7344.884277</td>\n",
       "    </tr>\n",
       "    <tr>\n",
       "      <th>3</th>\n",
       "      <td>2020-01-04</td>\n",
       "      <td>7410.656738</td>\n",
       "    </tr>\n",
       "    <tr>\n",
       "      <th>4</th>\n",
       "      <td>2020-01-05</td>\n",
       "      <td>7411.317383</td>\n",
       "    </tr>\n",
       "    <tr>\n",
       "      <th>...</th>\n",
       "      <td>...</td>\n",
       "      <td>...</td>\n",
       "    </tr>\n",
       "    <tr>\n",
       "      <th>1548</th>\n",
       "      <td>2024-03-28</td>\n",
       "      <td>70744.953125</td>\n",
       "    </tr>\n",
       "    <tr>\n",
       "      <th>1549</th>\n",
       "      <td>2024-03-29</td>\n",
       "      <td>69892.828125</td>\n",
       "    </tr>\n",
       "    <tr>\n",
       "      <th>1550</th>\n",
       "      <td>2024-03-30</td>\n",
       "      <td>69645.304688</td>\n",
       "    </tr>\n",
       "    <tr>\n",
       "      <th>1551</th>\n",
       "      <td>2024-03-31</td>\n",
       "      <td>71333.648438</td>\n",
       "    </tr>\n",
       "    <tr>\n",
       "      <th>1552</th>\n",
       "      <td>2024-04-01</td>\n",
       "      <td>69539.515625</td>\n",
       "    </tr>\n",
       "  </tbody>\n",
       "</table>\n",
       "<p>1553 rows × 2 columns</p>\n",
       "</div>"
      ],
      "text/plain": [
       "            Date         Close\n",
       "0     2020-01-01   7200.174316\n",
       "1     2020-01-02   6985.470215\n",
       "2     2020-01-03   7344.884277\n",
       "3     2020-01-04   7410.656738\n",
       "4     2020-01-05   7411.317383\n",
       "...          ...           ...\n",
       "1548  2024-03-28  70744.953125\n",
       "1549  2024-03-29  69892.828125\n",
       "1550  2024-03-30  69645.304688\n",
       "1551  2024-03-31  71333.648438\n",
       "1552  2024-04-01  69539.515625\n",
       "\n",
       "[1553 rows x 2 columns]"
      ]
     },
     "execution_count": 167,
     "metadata": {},
     "output_type": "execute_result"
    }
   ],
   "source": [
    "data = data[['Date','Close']]\n",
    "data"
   ]
  },
  {
   "cell_type": "code",
   "execution_count": 168,
   "metadata": {},
   "outputs": [
    {
     "data": {
      "text/plain": [
       "'cuda:0'"
      ]
     },
     "execution_count": 168,
     "metadata": {},
     "output_type": "execute_result"
    }
   ],
   "source": [
    "device = 'cuda:0' if torch.cuda.is_available() else 'cpu'\n",
    "device"
   ]
  },
  {
   "cell_type": "code",
   "execution_count": 169,
   "metadata": {},
   "outputs": [
    {
     "name": "stdout",
     "output_type": "stream",
     "text": [
      "<class 'pandas.core.series.Series'>\n",
      "RangeIndex: 1553 entries, 0 to 1552\n",
      "Series name: Date\n",
      "Non-Null Count  Dtype         \n",
      "--------------  -----         \n",
      "1553 non-null   datetime64[ns]\n",
      "dtypes: datetime64[ns](1)\n",
      "memory usage: 12.3 KB\n"
     ]
    },
    {
     "name": "stderr",
     "output_type": "stream",
     "text": [
      "C:\\Users\\ivoto\\AppData\\Local\\Temp\\ipykernel_16960\\4140636855.py:1: SettingWithCopyWarning: \n",
      "A value is trying to be set on a copy of a slice from a DataFrame.\n",
      "Try using .loc[row_indexer,col_indexer] = value instead\n",
      "\n",
      "See the caveats in the documentation: https://pandas.pydata.org/pandas-docs/stable/user_guide/indexing.html#returning-a-view-versus-a-copy\n",
      "  data['Date'] = pd.to_datetime(data['Date'])\n"
     ]
    }
   ],
   "source": [
    "data['Date'] = pd.to_datetime(data['Date'])\n",
    "data['Date'].info()"
   ]
  },
  {
   "cell_type": "code",
   "execution_count": 170,
   "metadata": {},
   "outputs": [
    {
     "data": {
      "text/plain": [
       "[<matplotlib.lines.Line2D at 0x259a4679a00>]"
      ]
     },
     "execution_count": 170,
     "metadata": {},
     "output_type": "execute_result"
    },
    {
     "data": {
      "image/png": "[encoded data removed]",
      "text/plain": [
       "<Figure size 640x480 with 1 Axes>"
      ]
     },
     "metadata": {},
     "output_type": "display_data"
    }
   ],
   "source": [
    "plt.plot(data['Date'],data['Close'])"
   ]
  },
  {
   "cell_type": "code",
   "execution_count": 171,
   "metadata": {},
   "outputs": [
    {
     "data": {
      "text/html": [
       "<div>\n",
       "<style scoped>\n",
       "    .dataframe tbody tr th:only-of-type {\n",
       "        vertical-align: middle;\n",
       "    }\n",
       "\n",
       "    .dataframe tbody tr th {\n",
       "        vertical-align: top;\n",
       "    }\n",
       "\n",
       "    .dataframe thead th {\n",
       "        text-align: right;\n",
       "    }\n",
       "</style>\n",
       "<table border=\"1\" class=\"dataframe\">\n",
       "  <thead>\n",
       "    <tr style=\"text-align: right;\">\n",
       "      <th></th>\n",
       "      <th>Close</th>\n",
       "      <th>Close(t-1)</th>\n",
       "      <th>Close(t-2)</th>\n",
       "      <th>Close(t-3)</th>\n",
       "      <th>Close(t-4)</th>\n",
       "      <th>Close(t-5)</th>\n",
       "      <th>Close(t-6)</th>\n",
       "      <th>Close(t-7)</th>\n",
       "    </tr>\n",
       "    <tr>\n",
       "      <th>Date</th>\n",
       "      <th></th>\n",
       "      <th></th>\n",
       "      <th></th>\n",
       "      <th></th>\n",
       "      <th></th>\n",
       "      <th></th>\n",
       "      <th></th>\n",
       "      <th></th>\n",
       "    </tr>\n",
       "  </thead>\n",
       "  <tbody>\n",
       "    <tr>\n",
       "      <th>2020-01-08</th>\n",
       "      <td>8079.862793</td>\n",
       "      <td>8163.692383</td>\n",
       "      <td>7769.219238</td>\n",
       "      <td>7411.317383</td>\n",
       "      <td>7410.656738</td>\n",
       "      <td>7344.884277</td>\n",
       "      <td>6985.470215</td>\n",
       "      <td>7200.174316</td>\n",
       "    </tr>\n",
       "    <tr>\n",
       "      <th>2020-01-09</th>\n",
       "      <td>7879.071289</td>\n",
       "      <td>8079.862793</td>\n",
       "      <td>8163.692383</td>\n",
       "      <td>7769.219238</td>\n",
       "      <td>7411.317383</td>\n",
       "      <td>7410.656738</td>\n",
       "      <td>7344.884277</td>\n",
       "      <td>6985.470215</td>\n",
       "    </tr>\n",
       "    <tr>\n",
       "      <th>2020-01-10</th>\n",
       "      <td>8166.554199</td>\n",
       "      <td>7879.071289</td>\n",
       "      <td>8079.862793</td>\n",
       "      <td>8163.692383</td>\n",
       "      <td>7769.219238</td>\n",
       "      <td>7411.317383</td>\n",
       "      <td>7410.656738</td>\n",
       "      <td>7344.884277</td>\n",
       "    </tr>\n",
       "    <tr>\n",
       "      <th>2020-01-11</th>\n",
       "      <td>8037.537598</td>\n",
       "      <td>8166.554199</td>\n",
       "      <td>7879.071289</td>\n",
       "      <td>8079.862793</td>\n",
       "      <td>8163.692383</td>\n",
       "      <td>7769.219238</td>\n",
       "      <td>7411.317383</td>\n",
       "      <td>7410.656738</td>\n",
       "    </tr>\n",
       "    <tr>\n",
       "      <th>2020-01-12</th>\n",
       "      <td>8192.494141</td>\n",
       "      <td>8037.537598</td>\n",
       "      <td>8166.554199</td>\n",
       "      <td>7879.071289</td>\n",
       "      <td>8079.862793</td>\n",
       "      <td>8163.692383</td>\n",
       "      <td>7769.219238</td>\n",
       "      <td>7411.317383</td>\n",
       "    </tr>\n",
       "    <tr>\n",
       "      <th>...</th>\n",
       "      <td>...</td>\n",
       "      <td>...</td>\n",
       "      <td>...</td>\n",
       "      <td>...</td>\n",
       "      <td>...</td>\n",
       "      <td>...</td>\n",
       "      <td>...</td>\n",
       "      <td>...</td>\n",
       "    </tr>\n",
       "    <tr>\n",
       "      <th>2024-03-28</th>\n",
       "      <td>70744.953125</td>\n",
       "      <td>69455.343750</td>\n",
       "      <td>69987.835938</td>\n",
       "      <td>69958.812500</td>\n",
       "      <td>67234.171875</td>\n",
       "      <td>64062.203125</td>\n",
       "      <td>63778.761719</td>\n",
       "      <td>65491.390625</td>\n",
       "    </tr>\n",
       "    <tr>\n",
       "      <th>2024-03-29</th>\n",
       "      <td>69892.828125</td>\n",
       "      <td>70744.953125</td>\n",
       "      <td>69455.343750</td>\n",
       "      <td>69987.835938</td>\n",
       "      <td>69958.812500</td>\n",
       "      <td>67234.171875</td>\n",
       "      <td>64062.203125</td>\n",
       "      <td>63778.761719</td>\n",
       "    </tr>\n",
       "    <tr>\n",
       "      <th>2024-03-30</th>\n",
       "      <td>69645.304688</td>\n",
       "      <td>69892.828125</td>\n",
       "      <td>70744.953125</td>\n",
       "      <td>69455.343750</td>\n",
       "      <td>69987.835938</td>\n",
       "      <td>69958.812500</td>\n",
       "      <td>67234.171875</td>\n",
       "      <td>64062.203125</td>\n",
       "    </tr>\n",
       "    <tr>\n",
       "      <th>2024-03-31</th>\n",
       "      <td>71333.648438</td>\n",
       "      <td>69645.304688</td>\n",
       "      <td>69892.828125</td>\n",
       "      <td>70744.953125</td>\n",
       "      <td>69455.343750</td>\n",
       "      <td>69987.835938</td>\n",
       "      <td>69958.812500</td>\n",
       "      <td>67234.171875</td>\n",
       "    </tr>\n",
       "    <tr>\n",
       "      <th>2024-04-01</th>\n",
       "      <td>69539.515625</td>\n",
       "      <td>71333.648438</td>\n",
       "      <td>69645.304688</td>\n",
       "      <td>69892.828125</td>\n",
       "      <td>70744.953125</td>\n",
       "      <td>69455.343750</td>\n",
       "      <td>69987.835938</td>\n",
       "      <td>69958.812500</td>\n",
       "    </tr>\n",
       "  </tbody>\n",
       "</table>\n",
       "<p>1546 rows × 8 columns</p>\n",
       "</div>"
      ],
      "text/plain": [
       "                   Close    Close(t-1)    Close(t-2)    Close(t-3)  \\\n",
       "Date                                                                 \n",
       "2020-01-08   8079.862793   8163.692383   7769.219238   7411.317383   \n",
       "2020-01-09   7879.071289   8079.862793   8163.692383   7769.219238   \n",
       "2020-01-10   8166.554199   7879.071289   8079.862793   8163.692383   \n",
       "2020-01-11   8037.537598   8166.554199   7879.071289   8079.862793   \n",
       "2020-01-12   8192.494141   8037.537598   8166.554199   7879.071289   \n",
       "...                  ...           ...           ...           ...   \n",
       "2024-03-28  70744.953125  69455.343750  69987.835938  69958.812500   \n",
       "2024-03-29  69892.828125  70744.953125  69455.343750  69987.835938   \n",
       "2024-03-30  69645.304688  69892.828125  70744.953125  69455.343750   \n",
       "2024-03-31  71333.648438  69645.304688  69892.828125  70744.953125   \n",
       "2024-04-01  69539.515625  71333.648438  69645.304688  69892.828125   \n",
       "\n",
       "              Close(t-4)    Close(t-5)    Close(t-6)    Close(t-7)  \n",
       "Date                                                                \n",
       "2020-01-08   7410.656738   7344.884277   6985.470215   7200.174316  \n",
       "2020-01-09   7411.317383   7410.656738   7344.884277   6985.470215  \n",
       "2020-01-10   7769.219238   7411.317383   7410.656738   7344.884277  \n",
       "2020-01-11   8163.692383   7769.219238   7411.317383   7410.656738  \n",
       "2020-01-12   8079.862793   8163.692383   7769.219238   7411.317383  \n",
       "...                  ...           ...           ...           ...  \n",
       "2024-03-28  67234.171875  64062.203125  63778.761719  65491.390625  \n",
       "2024-03-29  69958.812500  67234.171875  64062.203125  63778.761719  \n",
       "2024-03-30  69987.835938  69958.812500  67234.171875  64062.203125  \n",
       "2024-03-31  69455.343750  69987.835938  69958.812500  67234.171875  \n",
       "2024-04-01  70744.953125  69455.343750  69987.835938  69958.812500  \n",
       "\n",
       "[1546 rows x 8 columns]"
      ]
     },
     "execution_count": 171,
     "metadata": {},
     "output_type": "execute_result"
    }
   ],
   "source": [
    "from copy import deepcopy as dc\n",
    "\n",
    "def prepare_dataframe_for_lstm(df, n_steps):\n",
    "    df = dc(df)\n",
    "    \n",
    "    df.set_index('Date', inplace=True)\n",
    "    \n",
    "    for i in range(1, n_steps+1):\n",
    "        df[f'Close(t-{i})'] = df['Close'].shift(i)\n",
    "        \n",
    "    df.dropna(inplace=True)\n",
    "    \n",
    "    return df\n",
    "\n",
    "lookback = 7\n",
    "shifted_df = prepare_dataframe_for_lstm(data, lookback)\n",
    "shifted_df"
   ]
  },
  {
   "cell_type": "markdown",
   "metadata": {},
   "source": [
    "En el cuadro aterior vemos para el dia actual, y los precios de los 7 (n-dias) anteriores"
   ]
  },
  {
   "cell_type": "code",
   "execution_count": 172,
   "metadata": {},
   "outputs": [
    {
     "data": {
      "text/plain": [
       "array([[ 8079.862793,  8163.692383,  7769.219238, ...,  7344.884277,\n",
       "         6985.470215,  7200.174316],\n",
       "       [ 7879.071289,  8079.862793,  8163.692383, ...,  7410.656738,\n",
       "         7344.884277,  6985.470215],\n",
       "       [ 8166.554199,  7879.071289,  8079.862793, ...,  7411.317383,\n",
       "         7410.656738,  7344.884277],\n",
       "       ...,\n",
       "       [69645.304688, 69892.828125, 70744.953125, ..., 69958.8125  ,\n",
       "        67234.171875, 64062.203125],\n",
       "       [71333.648438, 69645.304688, 69892.828125, ..., 69987.835938,\n",
       "        69958.8125  , 67234.171875],\n",
       "       [69539.515625, 71333.648438, 69645.304688, ..., 69455.34375 ,\n",
       "        69987.835938, 69958.8125  ]])"
      ]
     },
     "execution_count": 172,
     "metadata": {},
     "output_type": "execute_result"
    }
   ],
   "source": [
    "shifted_df_as_np = shifted_df.to_numpy()\n",
    "\n",
    "shifted_df_as_np"
   ]
  },
  {
   "cell_type": "markdown",
   "metadata": {},
   "source": [
    "#### Normalizamos los datos"
   ]
  },
  {
   "cell_type": "code",
   "execution_count": 173,
   "metadata": {},
   "outputs": [
    {
     "data": {
      "text/plain": [
       "(1546, 8)"
      ]
     },
     "execution_count": 173,
     "metadata": {},
     "output_type": "execute_result"
    }
   ],
   "source": [
    "#Normalizamos los datos \n",
    "from sklearn.preprocessing import MinMaxScaler\n",
    "\n",
    "scaler = MinMaxScaler(feature_range=(-1, 1))\n",
    "shifted_df_as_np = scaler.fit_transform(shifted_df_as_np)\n",
    "\n",
    "shifted_df_as_np.shape"
   ]
  },
  {
   "cell_type": "markdown",
   "metadata": {},
   "source": [
    "- Hasta ahora, leemos el CSV, lo convertimos a DataFrame con pandas\n",
    "- Luego lo analizamos y para trabajar con el lo pasamos de DataFrame a una matriz de NumPy \n",
    "- Y por ultimo Escalamos las variables con un rango de -1 a 1 "
   ]
  },
  {
   "cell_type": "markdown",
   "metadata": {},
   "source": [
    "#### Division del conjunto de entrenamiento y test"
   ]
  },
  {
   "cell_type": "code",
   "execution_count": 174,
   "metadata": {},
   "outputs": [
    {
     "data": {
      "text/plain": [
       "((1546, 7), (1546,))"
      ]
     },
     "execution_count": 174,
     "metadata": {},
     "output_type": "execute_result"
    }
   ],
   "source": [
    "X = shifted_df_as_np[:, 1:]\n",
    "y = shifted_df_as_np[:, 0]\n",
    "\n",
    "X.shape, y.shape"
   ]
  },
  {
   "cell_type": "code",
   "execution_count": 175,
   "metadata": {},
   "outputs": [
    {
     "data": {
      "text/plain": [
       "array([[-0.93453832, -0.9408427 , -0.93028919, ..., -0.92833851,\n",
       "        -0.9178294 , -0.90624645],\n",
       "       [-0.9408427 , -0.93028919, -0.92835791, ..., -0.9178294 ,\n",
       "        -0.90624645, -0.90870795],\n",
       "       [-0.93028919, -0.92835791, -0.92833851, ..., -0.90624645,\n",
       "        -0.90870795, -0.91460381],\n",
       "       ...,\n",
       "       [ 0.73510681,  0.82824563,  0.90824951, ...,  0.8934661 ,\n",
       "         0.93133303,  0.906312  ],\n",
       "       [ 0.82824563,  0.90824951,  0.90910172, ...,  0.93133303,\n",
       "         0.906312  ,  0.89904395],\n",
       "       [ 0.90824951,  0.90910172,  0.8934661 , ...,  0.906312  ,\n",
       "         0.89904395,  0.94861894]])"
      ]
     },
     "execution_count": 175,
     "metadata": {},
     "output_type": "execute_result"
    }
   ],
   "source": [
    "X = dc(np.flip(X, axis=1 ))\n",
    "X"
   ]
  },
  {
   "cell_type": "code",
   "execution_count": 176,
   "metadata": {},
   "outputs": [
    {
     "data": {
      "text/plain": [
       "1468"
      ]
     },
     "execution_count": 176,
     "metadata": {},
     "output_type": "execute_result"
    }
   ],
   "source": [
    "split_index = int(len(X) * 0.95)\n",
    "\n",
    "split_index"
   ]
  },
  {
   "cell_type": "code",
   "execution_count": 177,
   "metadata": {},
   "outputs": [
    {
     "data": {
      "text/plain": [
       "((1468, 7), (78, 7), (1468,), (78,))"
      ]
     },
     "execution_count": 177,
     "metadata": {},
     "output_type": "execute_result"
    }
   ],
   "source": [
    "X_train = X[:split_index]\n",
    "X_test = X[split_index:]\n",
    "\n",
    "y_train = y[:split_index]\n",
    "y_test = y[split_index:]\n",
    "\n",
    "X_train.shape, X_test.shape, y_train.shape, y_test.shape"
   ]
  },
  {
   "cell_type": "markdown",
   "metadata": {},
   "source": [
    "#### Agregamos un dimension"
   ]
  },
  {
   "cell_type": "code",
   "execution_count": 178,
   "metadata": {},
   "outputs": [
    {
     "data": {
      "text/plain": [
       "((1468, 7, 1), (78, 7, 1), (1468, 1), (78, 1))"
      ]
     },
     "execution_count": 178,
     "metadata": {},
     "output_type": "execute_result"
    }
   ],
   "source": [
    "X_train = X_train.reshape((-1, lookback, 1))\n",
    "X_test = X_test.reshape((-1, lookback, 1))\n",
    "\n",
    "y_train = y_train.reshape((-1, 1))\n",
    "y_test = y_test.reshape((-1, 1))\n",
    "\n",
    "X_train.shape, X_test.shape, y_train.shape, y_test.shape"
   ]
  },
  {
   "cell_type": "markdown",
   "metadata": {},
   "source": [
    "#### Convertimos a los conjuntos a Tensores de Pytorch "
   ]
  },
  {
   "cell_type": "code",
   "execution_count": 179,
   "metadata": {},
   "outputs": [
    {
     "data": {
      "text/plain": [
       "(torch.Size([1468, 7, 1]),\n",
       " torch.Size([78, 7, 1]),\n",
       " torch.Size([1468, 1]),\n",
       " torch.Size([78, 1]))"
      ]
     },
     "execution_count": 179,
     "metadata": {},
     "output_type": "execute_result"
    }
   ],
   "source": [
    "X_train = torch.tensor(X_train).float()\n",
    "y_train = torch.tensor(y_train).float()\n",
    "X_test = torch.tensor(X_test).float()\n",
    "y_test = torch.tensor(y_test).float()\n",
    "\n",
    "X_train.shape, X_test.shape, y_train.shape, y_test.shape"
   ]
  },
  {
   "cell_type": "code",
   "execution_count": 180,
   "metadata": {},
   "outputs": [],
   "source": [
    "from torch.utils.data import Dataset\n",
    "\n",
    "class TimeSeriesDataset(Dataset):\n",
    "    def __init__(self, X, y):\n",
    "        self.X = X\n",
    "        self.y = y\n",
    "    def __len__(self):\n",
    "        return len(self.X)\n",
    "    def __getitem__(self, i):\n",
    "        return self.X[i], self.y[i]\n",
    "    \n",
    "train_dataset = TimeSeriesDataset(X_train, y_train)\n",
    "test_dataset = TimeSeriesDataset(X_test, y_test)"
   ]
  },
  {
   "cell_type": "code",
   "execution_count": 181,
   "metadata": {},
   "outputs": [
    {
     "name": "stdout",
     "output_type": "stream",
     "text": [
      "torch.Size([7, 1])\n",
      "torch.Size([1])\n"
     ]
    }
   ],
   "source": [
    "x_sample, y_sample = train_dataset[10]\n",
    "print(x_sample.shape)  # Imprimirá torch.Size([7, 1])\n",
    "print(y_sample.shape)  # Imprimirá torch.Size([1])"
   ]
  },
  {
   "cell_type": "code",
   "execution_count": 182,
   "metadata": {},
   "outputs": [],
   "source": [
    "from torch.utils.data import DataLoader\n",
    "\n",
    "batch_size = 16 \n",
    "train_loader = DataLoader(train_dataset, batch_size = batch_size, shuffle=True)\n",
    "test_loader = DataLoader(test_dataset, batch_size = batch_size, shuffle=False)"
   ]
  },
  {
   "cell_type": "code",
   "execution_count": 183,
   "metadata": {},
   "outputs": [
    {
     "name": "stdout",
     "output_type": "stream",
     "text": [
      "torch.Size([16, 7, 1]) torch.Size([16, 1])\n"
     ]
    }
   ],
   "source": [
    "for _, batch in enumerate(train_loader):\n",
    "    x_batch, y_batch = batch[0].to(device), batch[1].to(device)\n",
    "    print(x_batch.shape, y_batch.shape)\n",
    "    break"
   ]
  },
  {
   "cell_type": "markdown",
   "metadata": {},
   "source": [
    "#### Creamos el modelo"
   ]
  },
  {
   "cell_type": "code",
   "execution_count": 184,
   "metadata": {},
   "outputs": [
    {
     "data": {
      "text/plain": [
       "LSTM(\n",
       "  (lstm): LSTM(1, 4, batch_first=True)\n",
       "  (fc): Linear(in_features=4, out_features=1, bias=True)\n",
       ")"
      ]
     },
     "execution_count": 184,
     "metadata": {},
     "output_type": "execute_result"
    }
   ],
   "source": [
    "class LSTM(nn.Module):\n",
    "    def __init__(self, input_size, hidden_size, num_stacked_layers):\n",
    "        super().__init__()\n",
    "        self.hidden_size = hidden_size\n",
    "        self.num_stacked_layers = num_stacked_layers\n",
    "\n",
    "        self.lstm = nn.LSTM(input_size, hidden_size, num_stacked_layers, \n",
    "                            batch_first=True)\n",
    "        \n",
    "        self.fc = nn.Linear(hidden_size, 1)\n",
    "\n",
    "    def forward(self, x):\n",
    "        batch_size = x.size(0)\n",
    "        h0 = torch.zeros(self.num_stacked_layers, batch_size, self.hidden_size).to(device)\n",
    "        c0 = torch.zeros(self.num_stacked_layers, batch_size, self.hidden_size).to(device)\n",
    "        \n",
    "        out, _ = self.lstm(x, (h0, c0))\n",
    "        out = self.fc(out[:, -1, :])\n",
    "        return out\n",
    "\n",
    "model = LSTM(1, 4, 1)\n",
    "model.to(device)\n",
    "model"
   ]
  },
  {
   "cell_type": "markdown",
   "metadata": {},
   "source": [
    "#### Funcion y Bucle de entrenamiento "
   ]
  },
  {
   "cell_type": "code",
   "execution_count": 185,
   "metadata": {},
   "outputs": [],
   "source": [
    "def train_one_epoch():\n",
    "    model.train(True)\n",
    "    print(f'Epoch: {epoch + 1}')\n",
    "    running_loss = 0.0\n",
    "    \n",
    "    for batch_index, batch in enumerate(train_loader):\n",
    "        x_batch, y_batch = batch[0].to(device), batch[1].to(device)\n",
    "        \n",
    "        output = model(x_batch)\n",
    "        loss = loss_function(output, y_batch)\n",
    "        running_loss += loss.item()\n",
    "        \n",
    "        optimizer.zero_grad()\n",
    "        loss.backward()\n",
    "        optimizer.step()\n",
    "\n",
    "        if batch_index % 100 == 99:  # print every 100 batches\n",
    "            avg_loss_across_batches = running_loss / 100\n",
    "            print('Batch {0}, Loss: {1:.3f}'.format(batch_index+1,\n",
    "                                                    avg_loss_across_batches))\n",
    "            running_loss = 0.0\n",
    "    print()\n"
   ]
  },
  {
   "cell_type": "code",
   "execution_count": 186,
   "metadata": {},
   "outputs": [],
   "source": [
    "def validate_one_epoch():\n",
    "    model.train(False)\n",
    "    running_loss = 0.0\n",
    "    \n",
    "    for batch_index, batch in enumerate(test_loader):\n",
    "        x_batch, y_batch = batch[0].to(device), batch[1].to(device)\n",
    "        \n",
    "        with torch.no_grad():\n",
    "            output = model(x_batch)\n",
    "            loss = loss_function(output, y_batch)\n",
    "            running_loss += loss.item()\n",
    "\n",
    "    avg_loss_across_batches = running_loss / len(test_loader)\n",
    "    \n",
    "    print('Val Loss: {0:.3f}'.format(avg_loss_across_batches))\n",
    "    print('***************************************************')\n",
    "    print()\n"
   ]
  },
  {
   "cell_type": "code",
   "execution_count": 187,
   "metadata": {},
   "outputs": [
    {
     "name": "stdout",
     "output_type": "stream",
     "text": [
      "Epoch: 1\n"
     ]
    },
    {
     "name": "stdout",
     "output_type": "stream",
     "text": [
      "\n",
      "Val Loss: 0.080\n",
      "***************************************************\n",
      "\n",
      "Epoch: 2\n",
      "\n",
      "Val Loss: 0.022\n",
      "***************************************************\n",
      "\n",
      "Epoch: 3\n",
      "\n",
      "Val Loss: 0.013\n",
      "***************************************************\n",
      "\n",
      "Epoch: 4\n",
      "\n",
      "Val Loss: 0.009\n",
      "***************************************************\n",
      "\n",
      "Epoch: 5\n",
      "\n",
      "Val Loss: 0.008\n",
      "***************************************************\n",
      "\n",
      "Epoch: 6\n",
      "\n",
      "Val Loss: 0.007\n",
      "***************************************************\n",
      "\n",
      "Epoch: 7\n",
      "\n",
      "Val Loss: 0.006\n",
      "***************************************************\n",
      "\n",
      "Epoch: 8\n",
      "\n",
      "Val Loss: 0.006\n",
      "***************************************************\n",
      "\n",
      "Epoch: 9\n",
      "\n",
      "Val Loss: 0.006\n",
      "***************************************************\n",
      "\n",
      "Epoch: 10\n",
      "\n",
      "Val Loss: 0.006\n",
      "***************************************************\n",
      "\n",
      "Epoch: 11\n",
      "\n",
      "Val Loss: 0.006\n",
      "***************************************************\n",
      "\n",
      "Epoch: 12\n",
      "\n",
      "Val Loss: 0.005\n",
      "***************************************************\n",
      "\n",
      "Epoch: 13\n",
      "\n",
      "Val Loss: 0.004\n",
      "***************************************************\n",
      "\n",
      "Epoch: 14\n",
      "\n",
      "Val Loss: 0.004\n",
      "***************************************************\n",
      "\n",
      "Epoch: 15\n",
      "\n",
      "Val Loss: 0.004\n",
      "***************************************************\n",
      "\n",
      "Epoch: 16\n",
      "\n",
      "Val Loss: 0.004\n",
      "***************************************************\n",
      "\n",
      "Epoch: 17\n",
      "\n",
      "Val Loss: 0.003\n",
      "***************************************************\n",
      "\n",
      "Epoch: 18\n",
      "\n",
      "Val Loss: 0.005\n",
      "***************************************************\n",
      "\n",
      "Epoch: 19\n",
      "\n",
      "Val Loss: 0.005\n",
      "***************************************************\n",
      "\n",
      "Epoch: 20\n",
      "\n",
      "Val Loss: 0.006\n",
      "***************************************************\n",
      "\n",
      "Epoch: 21\n",
      "\n",
      "Val Loss: 0.004\n",
      "***************************************************\n",
      "\n",
      "Epoch: 22\n",
      "\n",
      "Val Loss: 0.005\n",
      "***************************************************\n",
      "\n",
      "Epoch: 23\n",
      "\n",
      "Val Loss: 0.003\n",
      "***************************************************\n",
      "\n",
      "Epoch: 24\n",
      "\n",
      "Val Loss: 0.003\n",
      "***************************************************\n",
      "\n",
      "Epoch: 25\n",
      "\n",
      "Val Loss: 0.004\n",
      "***************************************************\n",
      "\n",
      "Epoch: 26\n",
      "\n",
      "Val Loss: 0.003\n",
      "***************************************************\n",
      "\n",
      "Epoch: 27\n",
      "\n",
      "Val Loss: 0.004\n",
      "***************************************************\n",
      "\n",
      "Epoch: 28\n",
      "\n",
      "Val Loss: 0.003\n",
      "***************************************************\n",
      "\n",
      "Epoch: 29\n",
      "\n",
      "Val Loss: 0.004\n",
      "***************************************************\n",
      "\n",
      "Epoch: 30\n",
      "\n",
      "Val Loss: 0.004\n",
      "***************************************************\n",
      "\n",
      "Epoch: 31\n",
      "\n",
      "Val Loss: 0.004\n",
      "***************************************************\n",
      "\n",
      "Epoch: 32\n",
      "\n",
      "Val Loss: 0.005\n",
      "***************************************************\n",
      "\n",
      "Epoch: 33\n",
      "\n",
      "Val Loss: 0.006\n",
      "***************************************************\n",
      "\n",
      "Epoch: 34\n",
      "\n",
      "Val Loss: 0.004\n",
      "***************************************************\n",
      "\n",
      "Epoch: 35\n",
      "\n",
      "Val Loss: 0.003\n",
      "***************************************************\n",
      "\n",
      "Epoch: 36\n",
      "\n",
      "Val Loss: 0.005\n",
      "***************************************************\n",
      "\n",
      "Epoch: 37\n",
      "\n",
      "Val Loss: 0.004\n",
      "***************************************************\n",
      "\n",
      "Epoch: 38\n",
      "\n",
      "Val Loss: 0.004\n",
      "***************************************************\n",
      "\n",
      "Epoch: 39\n",
      "\n",
      "Val Loss: 0.004\n",
      "***************************************************\n",
      "\n",
      "Epoch: 40\n",
      "\n",
      "Val Loss: 0.003\n",
      "***************************************************\n",
      "\n",
      "Epoch: 41\n",
      "\n",
      "Val Loss: 0.005\n",
      "***************************************************\n",
      "\n",
      "Epoch: 42\n",
      "\n",
      "Val Loss: 0.004\n",
      "***************************************************\n",
      "\n",
      "Epoch: 43\n",
      "\n",
      "Val Loss: 0.003\n",
      "***************************************************\n",
      "\n",
      "Epoch: 44\n",
      "\n",
      "Val Loss: 0.004\n",
      "***************************************************\n",
      "\n",
      "Epoch: 45\n",
      "\n",
      "Val Loss: 0.004\n",
      "***************************************************\n",
      "\n",
      "Epoch: 46\n",
      "\n",
      "Val Loss: 0.005\n",
      "***************************************************\n",
      "\n",
      "Epoch: 47\n",
      "\n",
      "Val Loss: 0.005\n",
      "***************************************************\n",
      "\n",
      "Epoch: 48\n",
      "\n",
      "Val Loss: 0.005\n",
      "***************************************************\n",
      "\n",
      "Epoch: 49\n",
      "\n",
      "Val Loss: 0.004\n",
      "***************************************************\n",
      "\n",
      "Epoch: 50\n",
      "\n",
      "Val Loss: 0.003\n",
      "***************************************************\n",
      "\n",
      "Epoch: 51\n",
      "\n",
      "Val Loss: 0.007\n",
      "***************************************************\n",
      "\n",
      "Epoch: 52\n",
      "\n",
      "Val Loss: 0.004\n",
      "***************************************************\n",
      "\n",
      "Epoch: 53\n",
      "\n",
      "Val Loss: 0.003\n",
      "***************************************************\n",
      "\n",
      "Epoch: 54\n",
      "\n",
      "Val Loss: 0.003\n",
      "***************************************************\n",
      "\n",
      "Epoch: 55\n",
      "\n",
      "Val Loss: 0.004\n",
      "***************************************************\n",
      "\n",
      "Epoch: 56\n",
      "\n",
      "Val Loss: 0.004\n",
      "***************************************************\n",
      "\n",
      "Epoch: 57\n",
      "\n",
      "Val Loss: 0.005\n",
      "***************************************************\n",
      "\n",
      "Epoch: 58\n",
      "\n",
      "Val Loss: 0.004\n",
      "***************************************************\n",
      "\n",
      "Epoch: 59\n",
      "\n",
      "Val Loss: 0.003\n",
      "***************************************************\n",
      "\n",
      "Epoch: 60\n",
      "\n",
      "Val Loss: 0.003\n",
      "***************************************************\n",
      "\n",
      "Epoch: 61\n",
      "\n",
      "Val Loss: 0.004\n",
      "***************************************************\n",
      "\n",
      "Epoch: 62\n",
      "\n",
      "Val Loss: 0.004\n",
      "***************************************************\n",
      "\n",
      "Epoch: 63\n",
      "\n",
      "Val Loss: 0.003\n",
      "***************************************************\n",
      "\n",
      "Epoch: 64\n",
      "\n",
      "Val Loss: 0.007\n",
      "***************************************************\n",
      "\n",
      "Epoch: 65\n",
      "\n",
      "Val Loss: 0.003\n",
      "***************************************************\n",
      "\n",
      "Epoch: 66\n",
      "\n",
      "Val Loss: 0.003\n",
      "***************************************************\n",
      "\n",
      "Epoch: 67\n",
      "\n",
      "Val Loss: 0.005\n",
      "***************************************************\n",
      "\n",
      "Epoch: 68\n",
      "\n",
      "Val Loss: 0.004\n",
      "***************************************************\n",
      "\n",
      "Epoch: 69\n",
      "\n",
      "Val Loss: 0.003\n",
      "***************************************************\n",
      "\n",
      "Epoch: 70\n",
      "\n",
      "Val Loss: 0.006\n",
      "***************************************************\n",
      "\n",
      "Epoch: 71\n",
      "\n",
      "Val Loss: 0.003\n",
      "***************************************************\n",
      "\n",
      "Epoch: 72\n",
      "\n",
      "Val Loss: 0.004\n",
      "***************************************************\n",
      "\n",
      "Epoch: 73\n",
      "\n",
      "Val Loss: 0.004\n",
      "***************************************************\n",
      "\n",
      "Epoch: 74\n",
      "\n",
      "Val Loss: 0.007\n",
      "***************************************************\n",
      "\n",
      "Epoch: 75\n",
      "\n",
      "Val Loss: 0.006\n",
      "***************************************************\n",
      "\n",
      "Epoch: 76\n",
      "\n",
      "Val Loss: 0.004\n",
      "***************************************************\n",
      "\n",
      "Epoch: 77\n",
      "\n",
      "Val Loss: 0.004\n",
      "***************************************************\n",
      "\n",
      "Epoch: 78\n",
      "\n",
      "Val Loss: 0.003\n",
      "***************************************************\n",
      "\n",
      "Epoch: 79\n",
      "\n",
      "Val Loss: 0.004\n",
      "***************************************************\n",
      "\n",
      "Epoch: 80\n",
      "\n",
      "Val Loss: 0.004\n",
      "***************************************************\n",
      "\n",
      "Epoch: 81\n",
      "\n",
      "Val Loss: 0.004\n",
      "***************************************************\n",
      "\n",
      "Epoch: 82\n",
      "\n",
      "Val Loss: 0.006\n",
      "***************************************************\n",
      "\n",
      "Epoch: 83\n",
      "\n",
      "Val Loss: 0.005\n",
      "***************************************************\n",
      "\n",
      "Epoch: 84\n",
      "\n",
      "Val Loss: 0.005\n",
      "***************************************************\n",
      "\n",
      "Epoch: 85\n",
      "\n",
      "Val Loss: 0.003\n",
      "***************************************************\n",
      "\n",
      "Epoch: 86\n",
      "\n",
      "Val Loss: 0.004\n",
      "***************************************************\n",
      "\n",
      "Epoch: 87\n",
      "\n",
      "Val Loss: 0.009\n",
      "***************************************************\n",
      "\n",
      "Epoch: 88\n",
      "\n",
      "Val Loss: 0.004\n",
      "***************************************************\n",
      "\n",
      "Epoch: 89\n",
      "\n",
      "Val Loss: 0.005\n",
      "***************************************************\n",
      "\n",
      "Epoch: 90\n",
      "\n",
      "Val Loss: 0.003\n",
      "***************************************************\n",
      "\n",
      "Epoch: 91\n",
      "\n",
      "Val Loss: 0.006\n",
      "***************************************************\n",
      "\n",
      "Epoch: 92\n",
      "\n",
      "Val Loss: 0.003\n",
      "***************************************************\n",
      "\n",
      "Epoch: 93\n",
      "\n",
      "Val Loss: 0.006\n",
      "***************************************************\n",
      "\n",
      "Epoch: 94\n",
      "\n",
      "Val Loss: 0.003\n",
      "***************************************************\n",
      "\n",
      "Epoch: 95\n",
      "\n",
      "Val Loss: 0.003\n",
      "***************************************************\n",
      "\n",
      "Epoch: 96\n",
      "\n",
      "Val Loss: 0.005\n",
      "***************************************************\n",
      "\n",
      "Epoch: 97\n",
      "\n",
      "Val Loss: 0.003\n",
      "***************************************************\n",
      "\n",
      "Epoch: 98\n",
      "\n",
      "Val Loss: 0.004\n",
      "***************************************************\n",
      "\n",
      "Epoch: 99\n",
      "\n",
      "Val Loss: 0.003\n",
      "***************************************************\n",
      "\n",
      "Epoch: 100\n",
      "\n",
      "Val Loss: 0.004\n",
      "***************************************************\n",
      "\n"
     ]
    }
   ],
   "source": [
    "learning_rate = 0.01\n",
    "num_epochs = 100\n",
    "loss_function = nn.MSELoss()\n",
    "optimizer = torch.optim.Adam(model.parameters(), lr=learning_rate)\n",
    "\n",
    "for epoch in range(num_epochs):\n",
    "    train_one_epoch()\n",
    "    validate_one_epoch()"
   ]
  },
  {
   "cell_type": "markdown",
   "metadata": {},
   "source": [
    "### Visualizacion"
   ]
  },
  {
   "cell_type": "code",
   "execution_count": 188,
   "metadata": {},
   "outputs": [
    {
     "data": {
      "image/png": "[encoded data removed]",
      "text/plain": [
       "<Figure size 640x480 with 1 Axes>"
      ]
     },
     "metadata": {},
     "output_type": "display_data"
    }
   ],
   "source": [
    "with torch.no_grad():\n",
    "    predicted = model(X_train.to(device)).to('cpu').numpy() #Es porque numpy no usa GPU \n",
    "\n",
    "plt.plot(y_train, label='Actual Close')\n",
    "plt.plot(predicted, label='Predicted Close')\n",
    "plt.xlabel('Day')\n",
    "plt.ylabel('Close')\n",
    "plt.legend()\n",
    "plt.show()"
   ]
  },
  {
   "cell_type": "markdown",
   "metadata": {},
   "source": [
    "##### Anti-transformada de los Precios "
   ]
  },
  {
   "cell_type": "code",
   "execution_count": 189,
   "metadata": {},
   "outputs": [
    {
     "data": {
      "text/plain": [
       "array([ 7998.391021  ,  7939.84821474,  7733.36911742, ...,\n",
       "       46582.06680139, 43246.11084708, 42860.56465159])"
      ]
     },
     "execution_count": 189,
     "metadata": {},
     "output_type": "execute_result"
    }
   ],
   "source": [
    "train_predictions = predicted.flatten()\n",
    "\n",
    "dummies = np.zeros((X_train.shape[0], lookback+1))\n",
    "dummies[:, 0] = train_predictions\n",
    "dummies = scaler.inverse_transform(dummies)\n",
    "\n",
    "train_predictions = dc(dummies[:, 0])\n",
    "train_predictions"
   ]
  },
  {
   "cell_type": "code",
   "execution_count": 190,
   "metadata": {},
   "outputs": [
    {
     "data": {
      "text/plain": [
       "array([ 8079.86376967,  7879.07046987,  8166.55340504, ...,\n",
       "       42853.16788779, 42842.38293877, 41796.26952682])"
      ]
     },
     "execution_count": 190,
     "metadata": {},
     "output_type": "execute_result"
    }
   ],
   "source": [
    "dummies = np.zeros((X_train.shape[0], lookback+1))\n",
    "dummies[:, 0] = y_train.flatten()\n",
    "dummies = scaler.inverse_transform(dummies)\n",
    "\n",
    "new_y_train = dc(dummies[:, 0])\n",
    "new_y_train"
   ]
  },
  {
   "cell_type": "code",
   "execution_count": 191,
   "metadata": {},
   "outputs": [
    {
     "data": {
      "image/png": "[encoded data removed]",
      "text/plain": [
       "<Figure size 640x480 with 1 Axes>"
      ]
     },
     "metadata": {},
     "output_type": "display_data"
    }
   ],
   "source": [
    "plt.plot(new_y_train, label='Actual Close')\n",
    "plt.plot(train_predictions, label='Predicted Close')\n",
    "plt.xlabel('Day')\n",
    "plt.ylabel('Close')\n",
    "plt.legend()\n",
    "plt.show()\n"
   ]
  },
  {
   "cell_type": "code",
   "execution_count": 192,
   "metadata": {},
   "outputs": [
    {
     "data": {
      "text/plain": [
       "torch.Size([78, 7, 1])"
      ]
     },
     "execution_count": 192,
     "metadata": {},
     "output_type": "execute_result"
    }
   ],
   "source": [
    "X_test.shape\n"
   ]
  },
  {
   "cell_type": "code",
   "execution_count": 193,
   "metadata": {},
   "outputs": [
    {
     "data": {
      "text/plain": [
       "array([41950.61274342, 42591.52351236, 43314.08414023, 43012.17636112,\n",
       "       41595.85480654, 41777.73587714, 41884.67038222, 41792.78568177,\n",
       "       39902.17224416, 40025.84595229, 40316.40015188, 40224.03182371,\n",
       "       41978.55201352, 42424.91553725, 42337.59053787, 43460.39852761,\n",
       "       43253.2624984 , 42848.46558506, 43253.09426903, 43404.70673978,\n",
       "       43230.55127954, 42825.19182544, 42854.90778039, 43265.68076939,\n",
       "       44453.3801308 , 45478.35677825, 47252.65800173, 48001.56136998,\n",
       "       48515.99511541, 50075.60166   , 50022.7679953 , 51922.16945108,\n",
       "       52207.24287478, 52406.85882273, 51901.00553645, 52277.41304561,\n",
       "       51960.97537436, 52426.80478716, 52026.209802  , 51470.14245892,\n",
       "       50860.64871538, 51646.54529102, 51886.9808399 , 54558.71293603,\n",
       "       57123.62673982, 61821.33373629, 61141.41709725, 62228.95527914,\n",
       "       61820.9764709 , 62822.61871496, 66643.76086311, 63189.88550787,\n",
       "       65315.2695035 , 65717.05503498, 66757.08909925, 66887.77312574,\n",
       "       67280.48695815, 69205.80233434, 68842.16503303, 69819.31429859,\n",
       "       68847.21952636, 67611.05285171, 64620.73543216, 67037.52010277,\n",
       "       66170.40451807, 61751.80298932, 66720.6744182 , 64481.85866066,\n",
       "       63426.59209923, 63640.08455978, 66010.65005024, 67787.39174143,\n",
       "       67866.38393153, 67582.84512509, 68426.08685596, 67860.89503597,\n",
       "       67744.19104785, 68796.05952823])"
      ]
     },
     "execution_count": 193,
     "metadata": {},
     "output_type": "execute_result"
    }
   ],
   "source": [
    "test_predictions = model(X_test.to(device)).detach().cpu().numpy().flatten()\n",
    "\n",
    "dummies = np.zeros((X_test.shape[0], lookback+1))\n",
    "dummies[:, 0] = test_predictions\n",
    "dummies = scaler.inverse_transform(dummies)\n",
    "\n",
    "test_predictions = dc(dummies[:, 0])\n",
    "test_predictions"
   ]
  },
  {
   "cell_type": "code",
   "execution_count": 194,
   "metadata": {},
   "outputs": [
    {
     "data": {
      "text/plain": [
       "array([42511.9687815 , 43154.94524473, 42742.65235538, 41262.05855381,\n",
       "       41618.40616944, 41665.58600782, 41545.78512758, 39507.36718492,\n",
       "       39845.55075434, 40077.07420638, 39933.80856403, 41816.87115445,\n",
       "       42120.05473639, 42035.59369615, 43288.24634171, 42952.60946174,\n",
       "       42582.6055795 , 43075.77340697, 43185.85935819, 42992.24993464,\n",
       "       42583.58196958, 42658.6680919 , 43084.67180187, 44318.22267473,\n",
       "       45301.566232  , 47147.19924631, 47771.27743601, 48293.91813587,\n",
       "       49958.22272448, 49742.44153251, 51826.6953499 , 51938.5549411 ,\n",
       "       52160.20360816, 51662.99573838, 52122.54661791, 51779.1445442 ,\n",
       "       52284.87502049, 51839.17933945, 51304.97217253, 50731.94893276,\n",
       "       51571.10139583, 51733.23797126, 54522.4027957 , 57085.37092405,\n",
       "       62504.78852065, 61198.382658  , 62440.6329939 , 62029.84681044,\n",
       "       63167.37169843, 68330.41483787, 63801.199072  , 66106.80518857,\n",
       "       66925.48492375, 68300.09396766, 68498.88373939, 69019.78886021,\n",
       "       72123.90545665, 71481.28854248, 73083.5       , 71396.59431552,\n",
       "       69403.77404952, 65315.11725973, 68390.62420599, 67548.59433557,\n",
       "       61912.77337743, 67913.67287795, 65491.3911921 , 63778.76239941,\n",
       "       64062.20376984, 67234.1723719 , 69958.81222469, 69987.83597794,\n",
       "       69455.34409089, 70744.95239037, 69892.82774271, 69645.30372367,\n",
       "       71333.6486193 , 69539.51662917])"
      ]
     },
     "execution_count": 194,
     "metadata": {},
     "output_type": "execute_result"
    }
   ],
   "source": [
    "dummies = np.zeros((X_test.shape[0], lookback+1))\n",
    "dummies[:, 0] = y_test.flatten()\n",
    "dummies = scaler.inverse_transform(dummies)\n",
    "\n",
    "new_y_test = dc(dummies[:, 0])\n",
    "new_y_test"
   ]
  },
  {
   "cell_type": "code",
   "execution_count": 195,
   "metadata": {},
   "outputs": [
    {
     "data": {
      "image/png": "[encoded data removed]",
      "text/plain": [
       "<Figure size 640x480 with 1 Axes>"
      ]
     },
     "metadata": {},
     "output_type": "display_data"
    }
   ],
   "source": [
    "plt.plot(new_y_test, label='Actual Close')\n",
    "plt.plot(test_predictions, label='Predicted Close')\n",
    "plt.xlabel('Day')\n",
    "plt.ylabel('Close')\n",
    "plt.legend()\n",
    "plt.show()"
   ]
  },
  {
   "cell_type": "code",
   "execution_count": 223,
   "metadata": {},
   "outputs": [
    {
     "data": {
      "text/plain": [
       "torch.Size([1468, 7, 1])"
      ]
     },
     "execution_count": 223,
     "metadata": {},
     "output_type": "execute_result"
    }
   ],
   "source": [
    "X_train.shape"
   ]
  },
  {
   "cell_type": "code",
   "execution_count": 207,
   "metadata": {},
   "outputs": [
    {
     "name": "stdout",
     "output_type": "stream",
     "text": [
      "torch.Size([1, 7, 1])\n"
     ]
    }
   ],
   "source": [
    "# Suponiendo que X_train es un tensor de la forma (n_samples, seq_length, n_features)\n",
    "# donde n_samples es el número de muestras, seq_length es la longitud de la secuencia (por ejemplo, 60 días),\n",
    "# y n_features es el número de características por día.\n",
    "\n",
    "# Tomar la última muestra de X_train\n",
    "last_sequence = X_train[-1:]  # Esto conserva las dimensiones del tensor\n",
    "\n",
    "# Verificar las dimensiones del tensor last_sequence\n",
    "print(last_sequence.shape)  # Esto debería mostrar algo como (1, seq_length, n_features)"
   ]
  },
  {
   "cell_type": "code",
   "execution_count": 209,
   "metadata": {},
   "outputs": [
    {
     "data": {
      "text/plain": [
       "[0.39142119884490967,\n",
       " 0.39663559198379517,\n",
       " 0.4018852114677429,\n",
       " 0.4071679413318634,\n",
       " 0.41248127818107605,\n",
       " 0.4178222119808197,\n",
       " 0.4231872856616974,\n",
       " 0.4285726547241211,\n",
       " 0.4339739680290222,\n",
       " 0.43938636779785156,\n",
       " 0.4448046088218689,\n",
       " 0.45022299885749817,\n",
       " 0.4556354284286499,\n",
       " 0.4610353708267212,\n",
       " 0.4664159417152405,\n",
       " 0.47176992893218994,\n",
       " 0.47708985209465027,\n",
       " 0.48236802220344543,\n",
       " 0.4875966012477875,\n",
       " 0.49276769161224365,\n",
       " 0.4978732764720917,\n",
       " 0.5029054880142212,\n",
       " 0.5078566074371338,\n",
       " 0.5127190351486206,\n",
       " 0.517485499382019,\n",
       " 0.5221492052078247,\n",
       " 0.5267035961151123,\n",
       " 0.5311427712440491,\n",
       " 0.5354613065719604,\n",
       " 0.5396543145179749,\n",
       " 0.543717622756958,\n",
       " 0.5476477146148682,\n",
       " 0.5514417886734009,\n",
       " 0.5550976991653442,\n",
       " 0.5586138963699341,\n",
       " 0.5619896650314331,\n",
       " 0.565224826335907,\n",
       " 0.5683199167251587,\n",
       " 0.5712759494781494,\n",
       " 0.5740945339202881,\n",
       " 0.5767779350280762,\n",
       " 0.5793285965919495,\n",
       " 0.5817495584487915,\n",
       " 0.5840440988540649,\n",
       " 0.5862159729003906,\n",
       " 0.588269054889679,\n",
       " 0.5902073979377747,\n",
       " 0.5920352339744568,\n",
       " 0.5937568545341492,\n",
       " 0.5953767895698547,\n",
       " 0.5968995094299316,\n",
       " 0.5983294248580933,\n",
       " 0.5996708869934082,\n",
       " 0.6009284257888794,\n",
       " 0.6021062731742859,\n",
       " 0.6032086610794067,\n",
       " 0.6042395830154419]"
      ]
     },
     "execution_count": 209,
     "metadata": {},
     "output_type": "execute_result"
    }
   ],
   "source": [
    "# Mover el modelo al dispositivo seleccionado\n",
    "model.to(device)\n",
    "\n",
    "# Antes de la predicción, asegúrate de que el tensor de entrada también esté en el mismo dispositivo\n",
    "last_sequence = last_sequence.to(device)\n",
    "\n",
    "# Asumiendo que 'model' es tu modelo LSTM ya entrenado.\n",
    "model.eval()  # Poner el modelo en modo de evaluación\n",
    "\n",
    "predictions = []  # Lista para almacenar las predicciones\n",
    "n_days = 57  # Número de días hacia adelante que deseas predecir\n",
    "\n",
    "with torch.no_grad():  # No es necesario calcular gradientes\n",
    "    for _ in range(n_days):\n",
    "        # Hacer la predicción usando los últimos datos\n",
    "        predicted_value = model(last_sequence)\n",
    "        \n",
    "        # Asumiendo que el modelo devuelve un valor por predicción\n",
    "        # y que quieres mantener la estructura del tensor para las siguientes predicciones,\n",
    "        # extraemos el valor predicho y lo almacenamos\n",
    "        predictions.append(predicted_value.item())  # Convertir a un número y almacenar\n",
    "        \n",
    "        # Actualizar la secuencia para la siguiente predicción:\n",
    "        # Eliminar el dato más antiguo y añadir el nuevo valor predicho\n",
    "        # Esto mantiene la forma [1, 7, 1] del tensor\n",
    "        new_data_point = predicted_value.view(1, 1, 1)  # Asegurarse de que tiene la forma correcta\n",
    "        last_sequence = torch.cat((last_sequence[:, 1:, :], new_data_point), dim=1)\n",
    "\n",
    "# En este punto, 'predictions' contiene las predicciones de los precios para los próximos 'n_days' días.\n",
    "predictions"
   ]
  },
  {
   "cell_type": "code",
   "execution_count": 210,
   "metadata": {},
   "outputs": [
    {
     "data": {
      "text/plain": [
       "array([52357.52371998, 52535.10694882, 52713.8898586 , 52893.80038728,\n",
       "       53074.75327833, 53256.64602096, 53439.36087997, 53622.76692572,\n",
       "       53806.71597427, 53991.04258738, 54175.56813235, 54360.09875212,\n",
       "       54544.42638019, 54728.32874064, 54911.57137807, 55093.90867252,\n",
       "       55275.08586941, 55454.84110943, 55632.90745852, 55809.01595266,\n",
       "       55982.89356801, 56154.27235554, 56322.88944099, 56488.48600995,\n",
       "       56650.81441254, 56809.64323822, 56964.74919613, 57115.93132447,\n",
       "       57263.00490081, 57405.80347195, 57544.1849437 , 57678.02955096,\n",
       "       57807.24188763, 57931.74887669, 58051.4977403 , 58166.46411947,\n",
       "       58276.64192443, 58382.04942444, 58482.7211281 , 58578.71184316,\n",
       "       58670.09870646, 58756.9649446 , 58839.41408336, 58917.55776816,\n",
       "       58991.52388377, 59061.44437481, 59127.45727562, 59189.70671032,\n",
       "       59248.33883292, 59303.50791713, 59355.3662067 , 59404.06391551,\n",
       "       59449.7492275 , 59492.57641635, 59532.68960617, 59570.23292107,\n",
       "       59605.34236548])"
      ]
     },
     "execution_count": 210,
     "metadata": {},
     "output_type": "execute_result"
    }
   ],
   "source": [
    "# Asumiendo que el `scaler` fue ajustado en datos con 8 características\n",
    "# y que tus predicciones están en una lista llamada `predictions`.\n",
    "\n",
    "# Crear un arreglo dummy con la forma adecuada\n",
    "# El número '8' debe reemplazarse con el número correcto de características\n",
    "dummies = np.zeros((len(predictions), 8))  # Rellenar con ceros\n",
    "dummies[:, 0] = predictions  # Asumiendo que quieres antitransformar las predicciones en la primera característica\n",
    "\n",
    "# Antitransformar los datos\n",
    "predictions_inverse = scaler.inverse_transform(dummies)[:, 0]  # Extraer solo la columna de las predicciones antitransformadas\n",
    "predictions_inverse\n",
    "\n"
   ]
  },
  {
   "cell_type": "code",
   "execution_count": 217,
   "metadata": {},
   "outputs": [
    {
     "name": "stdout",
     "output_type": "stream",
     "text": [
      "        Fecha    Predicción\n",
      "0  2024-01-15  52357.523720\n",
      "1  2024-01-16  52535.106949\n",
      "2  2024-01-17  52713.889859\n",
      "3  2024-01-18  52893.800387\n",
      "4  2024-01-19  53074.753278\n",
      "5  2024-01-20  53256.646021\n",
      "6  2024-01-21  53439.360880\n",
      "7  2024-01-22  53622.766926\n",
      "8  2024-01-23  53806.715974\n",
      "9  2024-01-24  53991.042587\n",
      "10 2024-01-25  54175.568132\n",
      "11 2024-01-26  54360.098752\n",
      "12 2024-01-27  54544.426380\n",
      "13 2024-01-28  54728.328741\n",
      "14 2024-01-29  54911.571378\n",
      "15 2024-01-30  55093.908673\n",
      "16 2024-01-31  55275.085869\n",
      "17 2024-02-01  55454.841109\n",
      "18 2024-02-02  55632.907459\n",
      "19 2024-02-03  55809.015953\n",
      "20 2024-02-04  55982.893568\n",
      "21 2024-02-05  56154.272356\n",
      "22 2024-02-06  56322.889441\n",
      "23 2024-02-07  56488.486010\n",
      "24 2024-02-08  56650.814413\n",
      "25 2024-02-09  56809.643238\n",
      "26 2024-02-10  56964.749196\n",
      "27 2024-02-11  57115.931324\n",
      "28 2024-02-12  57263.004901\n",
      "29 2024-02-13  57405.803472\n",
      "30 2024-02-14  57544.184944\n",
      "31 2024-02-15  57678.029551\n",
      "32 2024-02-16  57807.241888\n",
      "33 2024-02-17  57931.748877\n",
      "34 2024-02-18  58051.497740\n",
      "35 2024-02-19  58166.464119\n",
      "36 2024-02-20  58276.641924\n",
      "37 2024-02-21  58382.049424\n",
      "38 2024-02-22  58482.721128\n",
      "39 2024-02-23  58578.711843\n",
      "40 2024-02-24  58670.098706\n",
      "41 2024-02-25  58756.964945\n",
      "42 2024-02-26  58839.414083\n",
      "43 2024-02-27  58917.557768\n",
      "44 2024-02-28  58991.523884\n",
      "45 2024-02-29  59061.444375\n",
      "46 2024-03-01  59127.457276\n",
      "47 2024-03-02  59189.706710\n",
      "48 2024-03-03  59248.338833\n",
      "49 2024-03-04  59303.507917\n",
      "50 2024-03-05  59355.366207\n",
      "51 2024-03-06  59404.063916\n",
      "52 2024-03-07  59449.749227\n",
      "53 2024-03-08  59492.576416\n",
      "54 2024-03-09  59532.689606\n",
      "55 2024-03-10  59570.232921\n",
      "56 2024-03-11  59605.342365\n"
     ]
    }
   ],
   "source": [
    "from datetime import datetime, timedelta\n",
    "\n",
    "# Datos iniciales\n",
    "fecha_inicio = datetime.strptime(\"2020-01-01\", \"%Y-%m-%d\")\n",
    "total_filas = 1553\n",
    "porcentaje_entrenamiento = 0.95\n",
    "\n",
    "# Calcular el índice de la última fila en el conjunto de entrenamiento\n",
    "indice_final_entrenamiento = int(total_filas * porcentaje_entrenamiento)\n",
    "\n",
    "# Calcular la fecha de la última observación en el conjunto de entrenamiento\n",
    "fecha_final_entrenamiento = fecha_inicio + timedelta(days=indice_final_entrenamiento - 1)\n",
    "\n",
    "# Número de días para predecir desde el final del conjunto de entrenamiento\n",
    "n_days = 57\n",
    "\n",
    "# Calcular las fechas de predicción\n",
    "prediction_dates = [(fecha_final_entrenamiento + timedelta(days=i)).strftime('%Y-%m-%d') for i in range(1, n_days + 1)]\n",
    "fecha_final_entrenamiento.strftime('%Y-%m-%d'), prediction_dates\n",
    "\n",
    "\n",
    "#############################################\n",
    "\n",
    "predictions_df = pd.DataFrame({\n",
    "    'Fecha': prediction_dates,\n",
    "    'Predicción': predictions_inverse\n",
    "})\n",
    "predictions_df['Fecha'] = pd.to_datetime(predictions_df['Fecha'])\n",
    "# Mostrar la tabla\n",
    "print(predictions_df)\n"
   ]
  },
  {
   "cell_type": "code",
   "execution_count": 222,
   "metadata": {},
   "outputs": [
    {
     "data": {
      "text/plain": [
       "((78,), (57, 2))"
      ]
     },
     "execution_count": 222,
     "metadata": {},
     "output_type": "execute_result"
    }
   ],
   "source": [
    "new_y_test.shape, predictions_df.shape"
   ]
  },
  {
   "cell_type": "code",
   "execution_count": 220,
   "metadata": {},
   "outputs": [
    {
     "data": {
      "image/png": "[encoded data removed]",
      "text/plain": [
       "<Figure size 640x480 with 1 Axes>"
      ]
     },
     "metadata": {},
     "output_type": "display_data"
    }
   ],
   "source": [
    "plt.plot(new_y_test, label='Actual Close')\n",
    "plt.plot(predictions_df['Predicción'], label='Predicción del Cierre')\n",
    "# plt.plot(predictions_df[1], label='Predicted Close')\n",
    "plt.xlabel('Day')\n",
    "plt.ylabel('Close')\n",
    "plt.legend()\n",
    "plt.show()"
   ]
  },
  {
   "cell_type": "code",
   "execution_count": null,
   "metadata": {},
   "outputs": [],
   "source": []
  }
 ],
 "metadata": {
  "kernelspec": {
   "display_name": "Python 3",
   "language": "python",
   "name": "python3"
  },
  "language_info": {
   "codemirror_mode": {
    "name": "ipython",
    "version": 3
   },
   "file_extension": ".py",
   "mimetype": "text/x-python",
   "name": "python",
   "nbconvert_exporter": "python",
   "pygments_lexer": "ipython3",
   "version": "3.12.2"
  }
 },
 "nbformat": 4,
 "nbformat_minor": 2
}
