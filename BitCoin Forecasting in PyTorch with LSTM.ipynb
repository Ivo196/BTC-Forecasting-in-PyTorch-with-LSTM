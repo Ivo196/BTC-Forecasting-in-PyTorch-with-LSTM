{
 "cells": [
  {
   "cell_type": "markdown",
   "metadata": {},
   "source": [
    "## BitCoin Forecasting in PyTorch with LSTM"
   ]
  },
  {
   "cell_type": "code",
   "execution_count": 68,
   "metadata": {},
   "outputs": [
    {
     "data": {
      "text/html": [
       "<div>\n",
       "<style scoped>\n",
       "    .dataframe tbody tr th:only-of-type {\n",
       "        vertical-align: middle;\n",
       "    }\n",
       "\n",
       "    .dataframe tbody tr th {\n",
       "        vertical-align: top;\n",
       "    }\n",
       "\n",
       "    .dataframe thead th {\n",
       "        text-align: right;\n",
       "    }\n",
       "</style>\n",
       "<table border=\"1\" class=\"dataframe\">\n",
       "  <thead>\n",
       "    <tr style=\"text-align: right;\">\n",
       "      <th></th>\n",
       "      <th>Date</th>\n",
       "      <th>Open</th>\n",
       "      <th>High</th>\n",
       "      <th>Low</th>\n",
       "      <th>Close</th>\n",
       "      <th>Adj Close</th>\n",
       "      <th>Volume</th>\n",
       "    </tr>\n",
       "  </thead>\n",
       "  <tbody>\n",
       "    <tr>\n",
       "      <th>0</th>\n",
       "      <td>2020-01-01</td>\n",
       "      <td>7194.892090</td>\n",
       "      <td>7254.330566</td>\n",
       "      <td>7174.944336</td>\n",
       "      <td>7200.174316</td>\n",
       "      <td>7200.174316</td>\n",
       "      <td>18565664997</td>\n",
       "    </tr>\n",
       "    <tr>\n",
       "      <th>1</th>\n",
       "      <td>2020-01-02</td>\n",
       "      <td>7202.551270</td>\n",
       "      <td>7212.155273</td>\n",
       "      <td>6935.270020</td>\n",
       "      <td>6985.470215</td>\n",
       "      <td>6985.470215</td>\n",
       "      <td>20802083465</td>\n",
       "    </tr>\n",
       "    <tr>\n",
       "      <th>2</th>\n",
       "      <td>2020-01-03</td>\n",
       "      <td>6984.428711</td>\n",
       "      <td>7413.715332</td>\n",
       "      <td>6914.996094</td>\n",
       "      <td>7344.884277</td>\n",
       "      <td>7344.884277</td>\n",
       "      <td>28111481032</td>\n",
       "    </tr>\n",
       "    <tr>\n",
       "      <th>3</th>\n",
       "      <td>2020-01-04</td>\n",
       "      <td>7345.375488</td>\n",
       "      <td>7427.385742</td>\n",
       "      <td>7309.514160</td>\n",
       "      <td>7410.656738</td>\n",
       "      <td>7410.656738</td>\n",
       "      <td>18444271275</td>\n",
       "    </tr>\n",
       "    <tr>\n",
       "      <th>4</th>\n",
       "      <td>2020-01-05</td>\n",
       "      <td>7410.451660</td>\n",
       "      <td>7544.497070</td>\n",
       "      <td>7400.535645</td>\n",
       "      <td>7411.317383</td>\n",
       "      <td>7411.317383</td>\n",
       "      <td>19725074095</td>\n",
       "    </tr>\n",
       "    <tr>\n",
       "      <th>...</th>\n",
       "      <td>...</td>\n",
       "      <td>...</td>\n",
       "      <td>...</td>\n",
       "      <td>...</td>\n",
       "      <td>...</td>\n",
       "      <td>...</td>\n",
       "      <td>...</td>\n",
       "    </tr>\n",
       "    <tr>\n",
       "      <th>1547</th>\n",
       "      <td>2024-03-27</td>\n",
       "      <td>69991.898438</td>\n",
       "      <td>71727.687500</td>\n",
       "      <td>68381.929688</td>\n",
       "      <td>69455.343750</td>\n",
       "      <td>69455.343750</td>\n",
       "      <td>40827113309</td>\n",
       "    </tr>\n",
       "    <tr>\n",
       "      <th>1548</th>\n",
       "      <td>2024-03-28</td>\n",
       "      <td>69452.773438</td>\n",
       "      <td>71546.023438</td>\n",
       "      <td>68895.507813</td>\n",
       "      <td>70744.953125</td>\n",
       "      <td>70744.953125</td>\n",
       "      <td>34374900617</td>\n",
       "    </tr>\n",
       "    <tr>\n",
       "      <th>1549</th>\n",
       "      <td>2024-03-29</td>\n",
       "      <td>70744.796875</td>\n",
       "      <td>70913.093750</td>\n",
       "      <td>69076.656250</td>\n",
       "      <td>69892.828125</td>\n",
       "      <td>69892.828125</td>\n",
       "      <td>25230851763</td>\n",
       "    </tr>\n",
       "    <tr>\n",
       "      <th>1550</th>\n",
       "      <td>2024-03-30</td>\n",
       "      <td>69893.445313</td>\n",
       "      <td>70355.492188</td>\n",
       "      <td>69601.062500</td>\n",
       "      <td>69645.304688</td>\n",
       "      <td>69645.304688</td>\n",
       "      <td>17130241883</td>\n",
       "    </tr>\n",
       "    <tr>\n",
       "      <th>1551</th>\n",
       "      <td>2024-03-31</td>\n",
       "      <td>69647.742188</td>\n",
       "      <td>70718.617188</td>\n",
       "      <td>69647.742188</td>\n",
       "      <td>70466.281250</td>\n",
       "      <td>70466.281250</td>\n",
       "      <td>18119962624</td>\n",
       "    </tr>\n",
       "  </tbody>\n",
       "</table>\n",
       "<p>1552 rows × 7 columns</p>\n",
       "</div>"
      ],
      "text/plain": [
       "            Date          Open          High           Low         Close  \\\n",
       "0     2020-01-01   7194.892090   7254.330566   7174.944336   7200.174316   \n",
       "1     2020-01-02   7202.551270   7212.155273   6935.270020   6985.470215   \n",
       "2     2020-01-03   6984.428711   7413.715332   6914.996094   7344.884277   \n",
       "3     2020-01-04   7345.375488   7427.385742   7309.514160   7410.656738   \n",
       "4     2020-01-05   7410.451660   7544.497070   7400.535645   7411.317383   \n",
       "...          ...           ...           ...           ...           ...   \n",
       "1547  2024-03-27  69991.898438  71727.687500  68381.929688  69455.343750   \n",
       "1548  2024-03-28  69452.773438  71546.023438  68895.507813  70744.953125   \n",
       "1549  2024-03-29  70744.796875  70913.093750  69076.656250  69892.828125   \n",
       "1550  2024-03-30  69893.445313  70355.492188  69601.062500  69645.304688   \n",
       "1551  2024-03-31  69647.742188  70718.617188  69647.742188  70466.281250   \n",
       "\n",
       "         Adj Close       Volume  \n",
       "0      7200.174316  18565664997  \n",
       "1      6985.470215  20802083465  \n",
       "2      7344.884277  28111481032  \n",
       "3      7410.656738  18444271275  \n",
       "4      7411.317383  19725074095  \n",
       "...            ...          ...  \n",
       "1547  69455.343750  40827113309  \n",
       "1548  70744.953125  34374900617  \n",
       "1549  69892.828125  25230851763  \n",
       "1550  69645.304688  17130241883  \n",
       "1551  70466.281250  18119962624  \n",
       "\n",
       "[1552 rows x 7 columns]"
      ]
     },
     "execution_count": 68,
     "metadata": {},
     "output_type": "execute_result"
    }
   ],
   "source": [
    "import pandas as pd \n",
    "import matplotlib.pyplot as plt\n",
    "import numpy as np\n",
    " \n",
    "import torch\n",
    "import torch.nn as nn\n",
    "\n",
    "data = pd.read_csv('BTC-USD d.csv')\n",
    "data"
   ]
  },
  {
   "cell_type": "code",
   "execution_count": 35,
   "metadata": {},
   "outputs": [
    {
     "data": {
      "text/html": [
       "<div>\n",
       "<style scoped>\n",
       "    .dataframe tbody tr th:only-of-type {\n",
       "        vertical-align: middle;\n",
       "    }\n",
       "\n",
       "    .dataframe tbody tr th {\n",
       "        vertical-align: top;\n",
       "    }\n",
       "\n",
       "    .dataframe thead th {\n",
       "        text-align: right;\n",
       "    }\n",
       "</style>\n",
       "<table border=\"1\" class=\"dataframe\">\n",
       "  <thead>\n",
       "    <tr style=\"text-align: right;\">\n",
       "      <th></th>\n",
       "      <th>Date</th>\n",
       "      <th>Close</th>\n",
       "    </tr>\n",
       "  </thead>\n",
       "  <tbody>\n",
       "    <tr>\n",
       "      <th>0</th>\n",
       "      <td>2020-01-01</td>\n",
       "      <td>7200.174316</td>\n",
       "    </tr>\n",
       "    <tr>\n",
       "      <th>1</th>\n",
       "      <td>2020-01-02</td>\n",
       "      <td>6985.470215</td>\n",
       "    </tr>\n",
       "    <tr>\n",
       "      <th>2</th>\n",
       "      <td>2020-01-03</td>\n",
       "      <td>7344.884277</td>\n",
       "    </tr>\n",
       "    <tr>\n",
       "      <th>3</th>\n",
       "      <td>2020-01-04</td>\n",
       "      <td>7410.656738</td>\n",
       "    </tr>\n",
       "    <tr>\n",
       "      <th>4</th>\n",
       "      <td>2020-01-05</td>\n",
       "      <td>7411.317383</td>\n",
       "    </tr>\n",
       "    <tr>\n",
       "      <th>...</th>\n",
       "      <td>...</td>\n",
       "      <td>...</td>\n",
       "    </tr>\n",
       "    <tr>\n",
       "      <th>1547</th>\n",
       "      <td>2024-03-27</td>\n",
       "      <td>69455.343750</td>\n",
       "    </tr>\n",
       "    <tr>\n",
       "      <th>1548</th>\n",
       "      <td>2024-03-28</td>\n",
       "      <td>70744.953125</td>\n",
       "    </tr>\n",
       "    <tr>\n",
       "      <th>1549</th>\n",
       "      <td>2024-03-29</td>\n",
       "      <td>69892.828125</td>\n",
       "    </tr>\n",
       "    <tr>\n",
       "      <th>1550</th>\n",
       "      <td>2024-03-30</td>\n",
       "      <td>69645.304688</td>\n",
       "    </tr>\n",
       "    <tr>\n",
       "      <th>1551</th>\n",
       "      <td>2024-03-31</td>\n",
       "      <td>70466.281250</td>\n",
       "    </tr>\n",
       "  </tbody>\n",
       "</table>\n",
       "<p>1552 rows × 2 columns</p>\n",
       "</div>"
      ],
      "text/plain": [
       "            Date         Close\n",
       "0     2020-01-01   7200.174316\n",
       "1     2020-01-02   6985.470215\n",
       "2     2020-01-03   7344.884277\n",
       "3     2020-01-04   7410.656738\n",
       "4     2020-01-05   7411.317383\n",
       "...          ...           ...\n",
       "1547  2024-03-27  69455.343750\n",
       "1548  2024-03-28  70744.953125\n",
       "1549  2024-03-29  69892.828125\n",
       "1550  2024-03-30  69645.304688\n",
       "1551  2024-03-31  70466.281250\n",
       "\n",
       "[1552 rows x 2 columns]"
      ]
     },
     "execution_count": 35,
     "metadata": {},
     "output_type": "execute_result"
    }
   ],
   "source": [
    "data = data[['Date','Close']]\n",
    "data"
   ]
  },
  {
   "cell_type": "code",
   "execution_count": 36,
   "metadata": {},
   "outputs": [
    {
     "data": {
      "text/plain": [
       "'cuda:0'"
      ]
     },
     "execution_count": 36,
     "metadata": {},
     "output_type": "execute_result"
    }
   ],
   "source": [
    "device = 'cuda:0' if torch.cuda.is_available() else 'cpu'\n",
    "device"
   ]
  },
  {
   "cell_type": "code",
   "execution_count": 37,
   "metadata": {},
   "outputs": [
    {
     "name": "stdout",
     "output_type": "stream",
     "text": [
      "<class 'pandas.core.series.Series'>\n",
      "RangeIndex: 1552 entries, 0 to 1551\n",
      "Series name: Date\n",
      "Non-Null Count  Dtype         \n",
      "--------------  -----         \n",
      "1552 non-null   datetime64[ns]\n",
      "dtypes: datetime64[ns](1)\n",
      "memory usage: 12.3 KB\n"
     ]
    },
    {
     "name": "stderr",
     "output_type": "stream",
     "text": [
      "C:\\Users\\ivoto\\AppData\\Local\\Temp\\ipykernel_18176\\4140636855.py:1: SettingWithCopyWarning: \n",
      "A value is trying to be set on a copy of a slice from a DataFrame.\n",
      "Try using .loc[row_indexer,col_indexer] = value instead\n",
      "\n",
      "See the caveats in the documentation: https://pandas.pydata.org/pandas-docs/stable/user_guide/indexing.html#returning-a-view-versus-a-copy\n",
      "  data['Date'] = pd.to_datetime(data['Date'])\n"
     ]
    }
   ],
   "source": [
    "data['Date'] = pd.to_datetime(data['Date'])\n",
    "data['Date'].info()"
   ]
  },
  {
   "cell_type": "code",
   "execution_count": 38,
   "metadata": {},
   "outputs": [
    {
     "data": {
      "text/plain": [
       "[<matplotlib.lines.Line2D at 0x1bbbefd6b10>]"
      ]
     },
     "execution_count": 38,
     "metadata": {},
     "output_type": "execute_result"
    },
    {
     "data": {
      "image/png": "[encoded data removed]",
      "text/plain": [
       "<Figure size 640x480 with 1 Axes>"
      ]
     },
     "metadata": {},
     "output_type": "display_data"
    }
   ],
   "source": [
    "plt.plot(data['Date'],data['Close'])"
   ]
  },
  {
   "cell_type": "code",
   "execution_count": 39,
   "metadata": {},
   "outputs": [
    {
     "data": {
      "text/html": [
       "<div>\n",
       "<style scoped>\n",
       "    .dataframe tbody tr th:only-of-type {\n",
       "        vertical-align: middle;\n",
       "    }\n",
       "\n",
       "    .dataframe tbody tr th {\n",
       "        vertical-align: top;\n",
       "    }\n",
       "\n",
       "    .dataframe thead th {\n",
       "        text-align: right;\n",
       "    }\n",
       "</style>\n",
       "<table border=\"1\" class=\"dataframe\">\n",
       "  <thead>\n",
       "    <tr style=\"text-align: right;\">\n",
       "      <th></th>\n",
       "      <th>Close</th>\n",
       "      <th>Close(t-1)</th>\n",
       "      <th>Close(t-2)</th>\n",
       "      <th>Close(t-3)</th>\n",
       "      <th>Close(t-4)</th>\n",
       "      <th>Close(t-5)</th>\n",
       "      <th>Close(t-6)</th>\n",
       "      <th>Close(t-7)</th>\n",
       "    </tr>\n",
       "    <tr>\n",
       "      <th>Date</th>\n",
       "      <th></th>\n",
       "      <th></th>\n",
       "      <th></th>\n",
       "      <th></th>\n",
       "      <th></th>\n",
       "      <th></th>\n",
       "      <th></th>\n",
       "      <th></th>\n",
       "    </tr>\n",
       "  </thead>\n",
       "  <tbody>\n",
       "    <tr>\n",
       "      <th>2020-01-08</th>\n",
       "      <td>8079.862793</td>\n",
       "      <td>8163.692383</td>\n",
       "      <td>7769.219238</td>\n",
       "      <td>7411.317383</td>\n",
       "      <td>7410.656738</td>\n",
       "      <td>7344.884277</td>\n",
       "      <td>6985.470215</td>\n",
       "      <td>7200.174316</td>\n",
       "    </tr>\n",
       "    <tr>\n",
       "      <th>2020-01-09</th>\n",
       "      <td>7879.071289</td>\n",
       "      <td>8079.862793</td>\n",
       "      <td>8163.692383</td>\n",
       "      <td>7769.219238</td>\n",
       "      <td>7411.317383</td>\n",
       "      <td>7410.656738</td>\n",
       "      <td>7344.884277</td>\n",
       "      <td>6985.470215</td>\n",
       "    </tr>\n",
       "    <tr>\n",
       "      <th>2020-01-10</th>\n",
       "      <td>8166.554199</td>\n",
       "      <td>7879.071289</td>\n",
       "      <td>8079.862793</td>\n",
       "      <td>8163.692383</td>\n",
       "      <td>7769.219238</td>\n",
       "      <td>7411.317383</td>\n",
       "      <td>7410.656738</td>\n",
       "      <td>7344.884277</td>\n",
       "    </tr>\n",
       "    <tr>\n",
       "      <th>2020-01-11</th>\n",
       "      <td>8037.537598</td>\n",
       "      <td>8166.554199</td>\n",
       "      <td>7879.071289</td>\n",
       "      <td>8079.862793</td>\n",
       "      <td>8163.692383</td>\n",
       "      <td>7769.219238</td>\n",
       "      <td>7411.317383</td>\n",
       "      <td>7410.656738</td>\n",
       "    </tr>\n",
       "    <tr>\n",
       "      <th>2020-01-12</th>\n",
       "      <td>8192.494141</td>\n",
       "      <td>8037.537598</td>\n",
       "      <td>8166.554199</td>\n",
       "      <td>7879.071289</td>\n",
       "      <td>8079.862793</td>\n",
       "      <td>8163.692383</td>\n",
       "      <td>7769.219238</td>\n",
       "      <td>7411.317383</td>\n",
       "    </tr>\n",
       "    <tr>\n",
       "      <th>...</th>\n",
       "      <td>...</td>\n",
       "      <td>...</td>\n",
       "      <td>...</td>\n",
       "      <td>...</td>\n",
       "      <td>...</td>\n",
       "      <td>...</td>\n",
       "      <td>...</td>\n",
       "      <td>...</td>\n",
       "    </tr>\n",
       "    <tr>\n",
       "      <th>2024-03-27</th>\n",
       "      <td>69455.343750</td>\n",
       "      <td>69987.835938</td>\n",
       "      <td>69958.812500</td>\n",
       "      <td>67234.171875</td>\n",
       "      <td>64062.203125</td>\n",
       "      <td>63778.761719</td>\n",
       "      <td>65491.390625</td>\n",
       "      <td>67913.671875</td>\n",
       "    </tr>\n",
       "    <tr>\n",
       "      <th>2024-03-28</th>\n",
       "      <td>70744.953125</td>\n",
       "      <td>69455.343750</td>\n",
       "      <td>69987.835938</td>\n",
       "      <td>69958.812500</td>\n",
       "      <td>67234.171875</td>\n",
       "      <td>64062.203125</td>\n",
       "      <td>63778.761719</td>\n",
       "      <td>65491.390625</td>\n",
       "    </tr>\n",
       "    <tr>\n",
       "      <th>2024-03-29</th>\n",
       "      <td>69892.828125</td>\n",
       "      <td>70744.953125</td>\n",
       "      <td>69455.343750</td>\n",
       "      <td>69987.835938</td>\n",
       "      <td>69958.812500</td>\n",
       "      <td>67234.171875</td>\n",
       "      <td>64062.203125</td>\n",
       "      <td>63778.761719</td>\n",
       "    </tr>\n",
       "    <tr>\n",
       "      <th>2024-03-30</th>\n",
       "      <td>69645.304688</td>\n",
       "      <td>69892.828125</td>\n",
       "      <td>70744.953125</td>\n",
       "      <td>69455.343750</td>\n",
       "      <td>69987.835938</td>\n",
       "      <td>69958.812500</td>\n",
       "      <td>67234.171875</td>\n",
       "      <td>64062.203125</td>\n",
       "    </tr>\n",
       "    <tr>\n",
       "      <th>2024-03-31</th>\n",
       "      <td>70466.281250</td>\n",
       "      <td>69645.304688</td>\n",
       "      <td>69892.828125</td>\n",
       "      <td>70744.953125</td>\n",
       "      <td>69455.343750</td>\n",
       "      <td>69987.835938</td>\n",
       "      <td>69958.812500</td>\n",
       "      <td>67234.171875</td>\n",
       "    </tr>\n",
       "  </tbody>\n",
       "</table>\n",
       "<p>1545 rows × 8 columns</p>\n",
       "</div>"
      ],
      "text/plain": [
       "                   Close    Close(t-1)    Close(t-2)    Close(t-3)  \\\n",
       "Date                                                                 \n",
       "2020-01-08   8079.862793   8163.692383   7769.219238   7411.317383   \n",
       "2020-01-09   7879.071289   8079.862793   8163.692383   7769.219238   \n",
       "2020-01-10   8166.554199   7879.071289   8079.862793   8163.692383   \n",
       "2020-01-11   8037.537598   8166.554199   7879.071289   8079.862793   \n",
       "2020-01-12   8192.494141   8037.537598   8166.554199   7879.071289   \n",
       "...                  ...           ...           ...           ...   \n",
       "2024-03-27  69455.343750  69987.835938  69958.812500  67234.171875   \n",
       "2024-03-28  70744.953125  69455.343750  69987.835938  69958.812500   \n",
       "2024-03-29  69892.828125  70744.953125  69455.343750  69987.835938   \n",
       "2024-03-30  69645.304688  69892.828125  70744.953125  69455.343750   \n",
       "2024-03-31  70466.281250  69645.304688  69892.828125  70744.953125   \n",
       "\n",
       "              Close(t-4)    Close(t-5)    Close(t-6)    Close(t-7)  \n",
       "Date                                                                \n",
       "2020-01-08   7410.656738   7344.884277   6985.470215   7200.174316  \n",
       "2020-01-09   7411.317383   7410.656738   7344.884277   6985.470215  \n",
       "2020-01-10   7769.219238   7411.317383   7410.656738   7344.884277  \n",
       "2020-01-11   8163.692383   7769.219238   7411.317383   7410.656738  \n",
       "2020-01-12   8079.862793   8163.692383   7769.219238   7411.317383  \n",
       "...                  ...           ...           ...           ...  \n",
       "2024-03-27  64062.203125  63778.761719  65491.390625  67913.671875  \n",
       "2024-03-28  67234.171875  64062.203125  63778.761719  65491.390625  \n",
       "2024-03-29  69958.812500  67234.171875  64062.203125  63778.761719  \n",
       "2024-03-30  69987.835938  69958.812500  67234.171875  64062.203125  \n",
       "2024-03-31  69455.343750  69987.835938  69958.812500  67234.171875  \n",
       "\n",
       "[1545 rows x 8 columns]"
      ]
     },
     "execution_count": 39,
     "metadata": {},
     "output_type": "execute_result"
    }
   ],
   "source": [
    "from copy import deepcopy as dc\n",
    "\n",
    "def prepare_dataframe_for_lstm(df, n_steps):\n",
    "    df = dc(df)\n",
    "    \n",
    "    df.set_index('Date', inplace=True)\n",
    "    \n",
    "    for i in range(1, n_steps+1):\n",
    "        df[f'Close(t-{i})'] = df['Close'].shift(i)\n",
    "        \n",
    "    df.dropna(inplace=True)\n",
    "    \n",
    "    return df\n",
    "\n",
    "lookback = 7\n",
    "shifted_df = prepare_dataframe_for_lstm(data, lookback)\n",
    "shifted_df"
   ]
  },
  {
   "cell_type": "markdown",
   "metadata": {},
   "source": [
    "En el cuadro aterior vemos para el dia actual, y los precios de los 7 (n-dias) anteriores"
   ]
  },
  {
   "cell_type": "code",
   "execution_count": 40,
   "metadata": {},
   "outputs": [
    {
     "data": {
      "text/plain": [
       "array([[ 8079.862793,  8163.692383,  7769.219238, ...,  7344.884277,\n",
       "         6985.470215,  7200.174316],\n",
       "       [ 7879.071289,  8079.862793,  8163.692383, ...,  7410.656738,\n",
       "         7344.884277,  6985.470215],\n",
       "       [ 8166.554199,  7879.071289,  8079.862793, ...,  7411.317383,\n",
       "         7410.656738,  7344.884277],\n",
       "       ...,\n",
       "       [69892.828125, 70744.953125, 69455.34375 , ..., 67234.171875,\n",
       "        64062.203125, 63778.761719],\n",
       "       [69645.304688, 69892.828125, 70744.953125, ..., 69958.8125  ,\n",
       "        67234.171875, 64062.203125],\n",
       "       [70466.28125 , 69645.304688, 69892.828125, ..., 69987.835938,\n",
       "        69958.8125  , 67234.171875]])"
      ]
     },
     "execution_count": 40,
     "metadata": {},
     "output_type": "execute_result"
    }
   ],
   "source": [
    "shifted_df_as_np = shifted_df.to_numpy()\n",
    "\n",
    "shifted_df_as_np"
   ]
  },
  {
   "cell_type": "code",
   "execution_count": 41,
   "metadata": {},
   "outputs": [
    {
     "data": {
      "text/plain": [
       "(1545, 8)"
      ]
     },
     "execution_count": 41,
     "metadata": {},
     "output_type": "execute_result"
    }
   ],
   "source": [
    "#Normalizamos los datos \n",
    "from sklearn.preprocessing import MinMaxScaler\n",
    "\n",
    "scaler = MinMaxScaler(feature_range=(-1, 1))\n",
    "shifted_df_as_np = scaler.fit_transform(shifted_df_as_np)\n",
    "\n",
    "shifted_df_as_np.shape"
   ]
  },
  {
   "cell_type": "markdown",
   "metadata": {},
   "source": [
    "- Hasta ahora, leemos el CSV, lo convertimos a DataFrame con pandas\n",
    "- Luego lo analizamos y para trabajar con el lo pasamos de DataFrame a una matriz de NumPy \n",
    "- Y por ultimo Escalamos las variables con un rango de -1 a 1 "
   ]
  },
  {
   "cell_type": "markdown",
   "metadata": {},
   "source": [
    "#### Division del conjunto de entrenamiento y test"
   ]
  },
  {
   "cell_type": "code",
   "execution_count": 42,
   "metadata": {},
   "outputs": [
    {
     "data": {
      "text/plain": [
       "((1545, 7), (1545,))"
      ]
     },
     "execution_count": 42,
     "metadata": {},
     "output_type": "execute_result"
    }
   ],
   "source": [
    "X = shifted_df_as_np[:, 1:]\n",
    "y = shifted_df_as_np[:, 0]\n",
    "\n",
    "X.shape, y.shape"
   ]
  },
  {
   "cell_type": "code",
   "execution_count": 43,
   "metadata": {},
   "outputs": [
    {
     "data": {
      "text/plain": [
       "array([[-0.93453832, -0.9408427 , -0.93028919, ..., -0.92833851,\n",
       "        -0.9178294 , -0.90624645],\n",
       "       [-0.9408427 , -0.93028919, -0.92835791, ..., -0.9178294 ,\n",
       "        -0.90624645, -0.90870795],\n",
       "       [-0.93028919, -0.92835791, -0.92833851, ..., -0.90624645,\n",
       "        -0.90870795, -0.91460381],\n",
       "       ...,\n",
       "       [ 0.72678409,  0.73510681,  0.82824563, ...,  0.90910172,\n",
       "         0.8934661 ,  0.93133303],\n",
       "       [ 0.73510681,  0.82824563,  0.90824951, ...,  0.8934661 ,\n",
       "         0.93133303,  0.906312  ],\n",
       "       [ 0.82824563,  0.90824951,  0.90910172, ...,  0.93133303,\n",
       "         0.906312  ,  0.89904395]])"
      ]
     },
     "execution_count": 43,
     "metadata": {},
     "output_type": "execute_result"
    }
   ],
   "source": [
    "X = dc(np.flip(X, axis=1 ))\n",
    "X"
   ]
  },
  {
   "cell_type": "code",
   "execution_count": 44,
   "metadata": {},
   "outputs": [
    {
     "data": {
      "text/plain": [
       "1467"
      ]
     },
     "execution_count": 44,
     "metadata": {},
     "output_type": "execute_result"
    }
   ],
   "source": [
    "split_index = int(len(X) * 0.95)\n",
    "\n",
    "split_index"
   ]
  },
  {
   "cell_type": "code",
   "execution_count": 45,
   "metadata": {},
   "outputs": [
    {
     "data": {
      "text/plain": [
       "((1467, 7), (78, 7), (1467,), (78,))"
      ]
     },
     "execution_count": 45,
     "metadata": {},
     "output_type": "execute_result"
    }
   ],
   "source": [
    "X_train = X[:split_index]\n",
    "X_test = X[split_index:]\n",
    "\n",
    "y_train = y[:split_index]\n",
    "y_test = y[split_index:]\n",
    "\n",
    "X_train.shape, X_test.shape, y_train.shape, y_test.shape"
   ]
  },
  {
   "cell_type": "markdown",
   "metadata": {},
   "source": [
    "#### Agregamos un dimension"
   ]
  },
  {
   "cell_type": "code",
   "execution_count": 46,
   "metadata": {},
   "outputs": [
    {
     "data": {
      "text/plain": [
       "((1467, 7, 1), (78, 7, 1), (1467, 1), (78, 1))"
      ]
     },
     "execution_count": 46,
     "metadata": {},
     "output_type": "execute_result"
    }
   ],
   "source": [
    "X_train = X_train.reshape((-1, lookback, 1))\n",
    "X_test = X_test.reshape((-1, lookback, 1))\n",
    "\n",
    "y_train = y_train.reshape((-1, 1))\n",
    "y_test = y_test.reshape((-1, 1))\n",
    "\n",
    "X_train.shape, X_test.shape, y_train.shape, y_test.shape"
   ]
  },
  {
   "cell_type": "markdown",
   "metadata": {},
   "source": [
    "#### Convertimos a los conjuntos a Tensores de Pytorch "
   ]
  },
  {
   "cell_type": "code",
   "execution_count": 47,
   "metadata": {},
   "outputs": [
    {
     "data": {
      "text/plain": [
       "(torch.Size([1467, 7, 1]),\n",
       " torch.Size([78, 7, 1]),\n",
       " torch.Size([1467, 1]),\n",
       " torch.Size([78, 1]))"
      ]
     },
     "execution_count": 47,
     "metadata": {},
     "output_type": "execute_result"
    }
   ],
   "source": [
    "X_train = torch.tensor(X_train).float()\n",
    "y_train = torch.tensor(y_train).float()\n",
    "X_test = torch.tensor(X_test).float()\n",
    "y_test = torch.tensor(y_test).float()\n",
    "\n",
    "X_train.shape, X_test.shape, y_train.shape, y_test.shape"
   ]
  },
  {
   "cell_type": "code",
   "execution_count": 48,
   "metadata": {},
   "outputs": [],
   "source": [
    "from torch.utils.data import Dataset\n",
    "\n",
    "class TimeSeriesDataset(Dataset):\n",
    "    def __init__(self, X, y):\n",
    "        self.X = X\n",
    "        self.y = y\n",
    "    def __len__(self):\n",
    "        return len(self.X)\n",
    "    def __getitem__(self, i):\n",
    "        return self.X[i], self.y[i]\n",
    "    \n",
    "train_dataset = TimeSeriesDataset(X_train, y_train)\n",
    "test_dataset = TimeSeriesDataset(X_test, y_test)"
   ]
  },
  {
   "cell_type": "code",
   "execution_count": 49,
   "metadata": {},
   "outputs": [
    {
     "name": "stdout",
     "output_type": "stream",
     "text": [
      "torch.Size([7, 1])\n",
      "torch.Size([1])\n"
     ]
    }
   ],
   "source": [
    "x_sample, y_sample = train_dataset[10]\n",
    "print(x_sample.shape)  # Imprimirá torch.Size([7, 1])\n",
    "print(y_sample.shape)  # Imprimirá torch.Size([1])"
   ]
  },
  {
   "cell_type": "code",
   "execution_count": 50,
   "metadata": {},
   "outputs": [],
   "source": [
    "from torch.utils.data import DataLoader\n",
    "\n",
    "batch_size = 16 \n",
    "train_loader = DataLoader(train_dataset, batch_size = batch_size, shuffle=True)\n",
    "test_loader = DataLoader(test_dataset, batch_size = batch_size, shuffle=False)"
   ]
  },
  {
   "cell_type": "code",
   "execution_count": 51,
   "metadata": {},
   "outputs": [
    {
     "name": "stdout",
     "output_type": "stream",
     "text": [
      "torch.Size([16, 7, 1]) torch.Size([16, 1])\n"
     ]
    }
   ],
   "source": [
    "for _, batch in enumerate(train_loader):\n",
    "    x_batch, y_batch = batch[0].to(device), batch[1].to(device)\n",
    "    print(x_batch.shape, y_batch.shape)\n",
    "    break"
   ]
  },
  {
   "cell_type": "markdown",
   "metadata": {},
   "source": [
    "#### Creamos el modelo"
   ]
  },
  {
   "cell_type": "code",
   "execution_count": 52,
   "metadata": {},
   "outputs": [
    {
     "data": {
      "text/plain": [
       "LSTM(\n",
       "  (lstm): LSTM(1, 4, batch_first=True)\n",
       "  (fc): Linear(in_features=4, out_features=1, bias=True)\n",
       ")"
      ]
     },
     "execution_count": 52,
     "metadata": {},
     "output_type": "execute_result"
    }
   ],
   "source": [
    "class LSTM(nn.Module):\n",
    "    def __init__(self, input_size, hidden_size, num_stacked_layers):\n",
    "        super().__init__()\n",
    "        self.hidden_size = hidden_size\n",
    "        self.num_stacked_layers = num_stacked_layers\n",
    "\n",
    "        self.lstm = nn.LSTM(input_size, hidden_size, num_stacked_layers, \n",
    "                            batch_first=True)\n",
    "        \n",
    "        self.fc = nn.Linear(hidden_size, 1)\n",
    "\n",
    "    def forward(self, x):\n",
    "        batch_size = x.size(0)\n",
    "        h0 = torch.zeros(self.num_stacked_layers, batch_size, self.hidden_size).to(device)\n",
    "        c0 = torch.zeros(self.num_stacked_layers, batch_size, self.hidden_size).to(device)\n",
    "        \n",
    "        out, _ = self.lstm(x, (h0, c0))\n",
    "        out = self.fc(out[:, -1, :])\n",
    "        return out\n",
    "\n",
    "model = LSTM(1, 4, 1)\n",
    "model.to(device)\n",
    "model"
   ]
  },
  {
   "cell_type": "markdown",
   "metadata": {},
   "source": [
    "#### Funcion y Bucle de entrenamiento "
   ]
  },
  {
   "cell_type": "code",
   "execution_count": 69,
   "metadata": {},
   "outputs": [],
   "source": [
    "def train_one_epoch():\n",
    "    model.train(True)\n",
    "    print(f'Epoch: {epoch + 1}')\n",
    "    running_loss = 0.0\n",
    "    \n",
    "    for batch_index, batch in enumerate(train_loader):\n",
    "        x_batch, y_batch = batch[0].to(device), batch[1].to(device)\n",
    "        \n",
    "        output = model(x_batch)\n",
    "        loss = loss_function(output, y_batch)\n",
    "        running_loss += loss.item()\n",
    "        \n",
    "        optimizer.zero_grad()\n",
    "        loss.backward()\n",
    "        optimizer.step()\n",
    "\n",
    "        if batch_index % 100 == 99:  # print every 100 batches\n",
    "            avg_loss_across_batches = running_loss / 100\n",
    "            print('Batch {0}, Loss: {1:.3f}'.format(batch_index+1,\n",
    "                                                    avg_loss_across_batches))\n",
    "            running_loss = 0.0\n",
    "    print()\n"
   ]
  },
  {
   "cell_type": "code",
   "execution_count": 70,
   "metadata": {},
   "outputs": [],
   "source": [
    "def validate_one_epoch():\n",
    "    model.train(False)\n",
    "    running_loss = 0.0\n",
    "    \n",
    "    for batch_index, batch in enumerate(test_loader):\n",
    "        x_batch, y_batch = batch[0].to(device), batch[1].to(device)\n",
    "        \n",
    "        with torch.no_grad():\n",
    "            output = model(x_batch)\n",
    "            loss = loss_function(output, y_batch)\n",
    "            running_loss += loss.item()\n",
    "\n",
    "    avg_loss_across_batches = running_loss / len(test_loader)\n",
    "    \n",
    "    print('Val Loss: {0:.3f}'.format(avg_loss_across_batches))\n",
    "    print('***************************************************')\n",
    "    print()\n"
   ]
  },
  {
   "cell_type": "code",
   "execution_count": 71,
   "metadata": {},
   "outputs": [
    {
     "name": "stdout",
     "output_type": "stream",
     "text": [
      "Epoch: 1\n",
      "\n",
      "Val Loss: 0.003\n",
      "***************************************************\n",
      "\n",
      "Epoch: 2\n",
      "\n",
      "Val Loss: 0.004\n",
      "***************************************************\n",
      "\n",
      "Epoch: 3\n",
      "\n",
      "Val Loss: 0.005\n",
      "***************************************************\n",
      "\n",
      "Epoch: 4\n",
      "\n",
      "Val Loss: 0.004\n",
      "***************************************************\n",
      "\n",
      "Epoch: 5\n",
      "\n",
      "Val Loss: 0.004\n",
      "***************************************************\n",
      "\n",
      "Epoch: 6\n",
      "\n",
      "Val Loss: 0.004\n",
      "***************************************************\n",
      "\n",
      "Epoch: 7\n",
      "\n",
      "Val Loss: 0.004\n",
      "***************************************************\n",
      "\n",
      "Epoch: 8\n",
      "\n",
      "Val Loss: 0.004\n",
      "***************************************************\n",
      "\n",
      "Epoch: 9\n",
      "\n",
      "Val Loss: 0.004\n",
      "***************************************************\n",
      "\n",
      "Epoch: 10\n",
      "\n",
      "Val Loss: 0.005\n",
      "***************************************************\n",
      "\n"
     ]
    }
   ],
   "source": [
    "learning_rate = 0.001\n",
    "num_epochs = 10\n",
    "loss_function = nn.MSELoss()\n",
    "optimizer = torch.optim.Adam(model.parameters(), lr=learning_rate)\n",
    "\n",
    "for epoch in range(num_epochs):\n",
    "    train_one_epoch()\n",
    "    validate_one_epoch()"
   ]
  },
  {
   "cell_type": "markdown",
   "metadata": {},
   "source": [
    "### Visualizacion"
   ]
  },
  {
   "cell_type": "code",
   "execution_count": 56,
   "metadata": {},
   "outputs": [
    {
     "data": {
      "image/png": "[encoded data removed]",
      "text/plain": [
       "<Figure size 640x480 with 1 Axes>"
      ]
     },
     "metadata": {},
     "output_type": "display_data"
    }
   ],
   "source": [
    "with torch.no_grad():\n",
    "    predicted = model(X_train.to(device)).to('cpu').numpy() #Es porque numpy no usa GPU \n",
    "\n",
    "plt.plot(y_train, label='Actual Close')\n",
    "plt.plot(predicted, label='Predicted Close')\n",
    "plt.xlabel('Day')\n",
    "plt.ylabel('Close')\n",
    "plt.legend()\n",
    "plt.show()"
   ]
  },
  {
   "cell_type": "markdown",
   "metadata": {},
   "source": [
    "##### Anti-transformada de los Precios "
   ]
  },
  {
   "cell_type": "code",
   "execution_count": 57,
   "metadata": {},
   "outputs": [
    {
     "data": {
      "text/plain": [
       "array([ 8008.38227247,  8106.70942199,  8044.64673966, ...,\n",
       "       46601.7833852 , 46366.84485156, 43153.08431832])"
      ]
     },
     "execution_count": 57,
     "metadata": {},
     "output_type": "execute_result"
    }
   ],
   "source": [
    "train_predictions = predicted.flatten()\n",
    "\n",
    "dummies = np.zeros((X_train.shape[0], lookback+1))\n",
    "dummies[:, 0] = train_predictions\n",
    "dummies = scaler.inverse_transform(dummies)\n",
    "\n",
    "train_predictions = dc(dummies[:, 0])\n",
    "train_predictions"
   ]
  },
  {
   "cell_type": "code",
   "execution_count": 58,
   "metadata": {},
   "outputs": [
    {
     "data": {
      "text/plain": [
       "array([ 8079.86376967,  7879.07046987,  8166.55340504, ...,\n",
       "       46368.58601286, 42853.16788779, 42842.38293877])"
      ]
     },
     "execution_count": 58,
     "metadata": {},
     "output_type": "execute_result"
    }
   ],
   "source": [
    "dummies = np.zeros((X_train.shape[0], lookback+1))\n",
    "dummies[:, 0] = y_train.flatten()\n",
    "dummies = scaler.inverse_transform(dummies)\n",
    "\n",
    "new_y_train = dc(dummies[:, 0])\n",
    "new_y_train"
   ]
  },
  {
   "cell_type": "code",
   "execution_count": 59,
   "metadata": {},
   "outputs": [
    {
     "data": {
      "image/png": "[encoded data removed]",
      "text/plain": [
       "<Figure size 640x480 with 1 Axes>"
      ]
     },
     "metadata": {},
     "output_type": "display_data"
    }
   ],
   "source": [
    "plt.plot(new_y_train, label='Actual Close')\n",
    "plt.plot(train_predictions, label='Predicted Close')\n",
    "plt.xlabel('Day')\n",
    "plt.ylabel('Close')\n",
    "plt.legend()\n",
    "plt.show()\n"
   ]
  },
  {
   "cell_type": "code",
   "execution_count": 60,
   "metadata": {},
   "outputs": [
    {
     "data": {
      "text/plain": [
       "torch.Size([78, 7, 1])"
      ]
     },
     "execution_count": 60,
     "metadata": {},
     "output_type": "execute_result"
    }
   ],
   "source": [
    "X_test.shape\n"
   ]
  },
  {
   "cell_type": "code",
   "execution_count": 61,
   "metadata": {},
   "outputs": [
    {
     "data": {
      "text/plain": [
       "array([42378.49438036, 41497.54288139, 42071.28471179, 42918.98820022,\n",
       "       42757.81888024, 41332.37665484, 41293.68846675, 41440.55702148,\n",
       "       41412.76136801, 39588.23949049, 39434.12819191, 39758.16993224,\n",
       "       39784.30105377, 41483.10814161, 42176.61913479, 42127.29418163,\n",
       "       43130.81815875, 43036.0941119 , 42584.93287934, 42890.08421207,\n",
       "       43085.81895872, 42940.93972265, 42518.70074749, 42487.4278462 ,\n",
       "       42895.64821457, 44110.07447815, 45243.42788671, 47029.91926925,\n",
       "       47856.82016828, 48323.48184705, 49760.68744146, 49815.45257218,\n",
       "       51495.08506405, 51908.4979601 , 52057.7171587 , 51609.12174123,\n",
       "       51880.94792658, 51667.31337184, 52040.32685977, 51749.93505354,\n",
       "       51209.68076388, 50615.79200727, 51248.5516445 , 51570.67511326,\n",
       "       53956.79991752, 56503.39575031, 61002.67430028, 60767.87786082,\n",
       "       61378.26172297, 61194.33500351, 61970.06778474, 65697.55159245,\n",
       "       63335.52799273, 64286.79987638, 65142.18660065, 66182.81949044,\n",
       "       66490.58738618, 66846.01773307, 68824.51287481, 68849.46867439,\n",
       "       69715.65049727, 68924.83137291, 67487.73539401, 64503.34330218,\n",
       "       66049.6812943 , 65914.87856622, 61829.20778433, 65256.38567119,\n",
       "       64460.18726678, 62909.94777418, 62839.67610751, 65088.62927055,\n",
       "       67295.96101543, 67664.17983941, 67308.03496175, 68041.72004225,\n",
       "       67694.95744096, 67441.46546593])"
      ]
     },
     "execution_count": 61,
     "metadata": {},
     "output_type": "execute_result"
    }
   ],
   "source": [
    "test_predictions = model(X_test.to(device)).detach().cpu().numpy().flatten()\n",
    "\n",
    "dummies = np.zeros((X_test.shape[0], lookback+1))\n",
    "dummies[:, 0] = test_predictions\n",
    "dummies = scaler.inverse_transform(dummies)\n",
    "\n",
    "test_predictions = dc(dummies[:, 0])\n",
    "test_predictions"
   ]
  },
  {
   "cell_type": "code",
   "execution_count": 62,
   "metadata": {},
   "outputs": [
    {
     "data": {
      "text/plain": [
       "array([41796.26952682, 42511.9687815 , 43154.94524473, 42742.65235538,\n",
       "       41262.05855381, 41618.40616944, 41665.58600782, 41545.78512758,\n",
       "       39507.36718492, 39845.55075434, 40077.07420638, 39933.80856403,\n",
       "       41816.87115445, 42120.05473639, 42035.59369615, 43288.24634171,\n",
       "       42952.60946174, 42582.6055795 , 43075.77340697, 43185.85935819,\n",
       "       42992.24993464, 42583.58196958, 42658.6680919 , 43084.67180187,\n",
       "       44318.22267473, 45301.566232  , 47147.19924631, 47771.27743601,\n",
       "       48293.91813587, 49958.22272448, 49742.44153251, 51826.6953499 ,\n",
       "       51938.5549411 , 52160.20360816, 51662.99573838, 52122.54661791,\n",
       "       51779.1445442 , 52284.87502049, 51839.17933945, 51304.97217253,\n",
       "       50731.94893276, 51571.10139583, 51733.23797126, 54522.4027957 ,\n",
       "       57085.37092405, 62504.78852065, 61198.382658  , 62440.6329939 ,\n",
       "       62029.84681044, 63167.37169843, 68330.41483787, 63801.199072  ,\n",
       "       66106.80518857, 66925.48492375, 68300.09396766, 68498.88373939,\n",
       "       69019.78886021, 72123.90545665, 71481.28854248, 73083.5       ,\n",
       "       71396.59431552, 69403.77404952, 65315.11725973, 68390.62420599,\n",
       "       67548.59433557, 61912.77337743, 67913.67287795, 65491.3911921 ,\n",
       "       63778.76239941, 64062.20376984, 67234.1723719 , 69958.81222469,\n",
       "       69987.83597794, 69455.34409089, 70744.95239037, 69892.82774271,\n",
       "       69645.30372367, 70466.28132489])"
      ]
     },
     "execution_count": 62,
     "metadata": {},
     "output_type": "execute_result"
    }
   ],
   "source": [
    "dummies = np.zeros((X_test.shape[0], lookback+1))\n",
    "dummies[:, 0] = y_test.flatten()\n",
    "dummies = scaler.inverse_transform(dummies)\n",
    "\n",
    "new_y_test = dc(dummies[:, 0])\n",
    "new_y_test"
   ]
  },
  {
   "cell_type": "code",
   "execution_count": 63,
   "metadata": {},
   "outputs": [
    {
     "data": {
      "image/png": "[encoded data removed]",
      "text/plain": [
       "<Figure size 640x480 with 1 Axes>"
      ]
     },
     "metadata": {},
     "output_type": "display_data"
    }
   ],
   "source": [
    "plt.plot(new_y_test, label='Actual Close')\n",
    "plt.plot(test_predictions, label='Predicted Close')\n",
    "plt.xlabel('Day')\n",
    "plt.ylabel('Close')\n",
    "plt.legend()\n",
    "plt.show()"
   ]
  },
  {
   "cell_type": "code",
   "execution_count": 64,
   "metadata": {},
   "outputs": [
    {
     "name": "stdout",
     "output_type": "stream",
     "text": [
      "[0.121150374, 0.106585324, 0.09724647, 0.09031206, 0.08460283, 0.079556465, 0.074888945]\n"
     ]
    }
   ],
   "source": [
    "# Asumiendo que 'device' es una cadena ('cuda' o 'cpu') que ya tienes definida\n",
    "device = torch.device(device)\n",
    "model.to(device)\n",
    "model.eval()\n",
    "\n",
    "def generate_future_predictions(last_known_data_scaled, model, lookback, num_predictions):\n",
    "    future_predictions = []\n",
    "    current_input = last_known_data_scaled.unsqueeze(0)[-lookback:]  # Asegúrate de que esto sea un tensor\n",
    "    \n",
    "    for _ in range(num_predictions):\n",
    "        # Asegura que la entrada actual es un tensor y está en el dispositivo adecuado\n",
    "        current_input_tensor = current_input.to(device).float()\n",
    "        \n",
    "        # Hacemos la predicción\n",
    "        with torch.no_grad():\n",
    "            predicted_price_scaled = model(current_input_tensor).cpu().numpy()\n",
    "        \n",
    "        # Almacenamos la predicción escalada\n",
    "        future_predictions.append(predicted_price_scaled[0, 0])\n",
    "        \n",
    "        # Actualizamos current_input para la próxima predicción\n",
    "        # Nota: Este paso puede necesitar ser ajustado dependiendo de la estructura exacta de tus datos\n",
    "        current_input = torch.roll(current_input, -1, dims=1)\n",
    "        current_input[0, -1, :] = torch.tensor(predicted_price_scaled)  # Asegúrate de que esto es correcto para tu modelo\n",
    "        \n",
    "    return future_predictions\n",
    "\n",
    "# Asegúrate de que 'last_known_data_scaled' es un tensor de PyTorch y tiene el formato adecuado\n",
    "last_known_data_scaled = X_train[-1].clone().detach().to(dtype=torch.float) # Convirtiendo a tensor si es necesario\n",
    "num_predictions = 7  # Número de días hacia el futuro que quieres predecir\n",
    "future_prices_scaled = generate_future_predictions(last_known_data_scaled, model, lookback=60, num_predictions=num_predictions)\n",
    "\n",
    "print(future_prices_scaled)\n"
   ]
  },
  {
   "cell_type": "code",
   "execution_count": 65,
   "metadata": {},
   "outputs": [
    {
     "name": "stdout",
     "output_type": "stream",
     "text": [
      "[43153.08431832 42657.05177049 42339.00437506 42102.84383137\n",
      " 41908.40823161 41736.54733879 41577.58859842]\n"
     ]
    }
   ],
   "source": [
    "# Crea un array temporal con ceros que tenga la misma forma que los datos sobre los que el scaler fue ajustado\n",
    "temp = np.zeros((len(future_prices_scaled), 8))  # Asumiendo que el scaler fue ajustado a datos con 8 características\n",
    "\n",
    "# Coloca tus predicciones escaladas en una de las columnas del array temporal\n",
    "# Elige la columna que corresponde a la característica que estás prediciendo (ejemplo, la primera columna)\n",
    "temp[:, 0] = np.array(future_prices_scaled).flatten()\n",
    "\n",
    "# Ahora aplica la transformación inversa\n",
    "predicted_prices = scaler.inverse_transform(temp)\n",
    "\n",
    "# Extrae las predicciones desescaladas\n",
    "predicted_prices = predicted_prices[:, 0]  # Asume que tus predicciones están en la primera columna\n",
    "\n",
    "print(predicted_prices)\n"
   ]
  },
  {
   "cell_type": "code",
   "execution_count": 66,
   "metadata": {},
   "outputs": [
    {
     "name": "stdout",
     "output_type": "stream",
     "text": [
      "        Date  Predicted Price\n",
      "0 2024-01-14     43153.084318\n",
      "1 2024-01-15     42657.051770\n",
      "2 2024-01-16     42339.004375\n",
      "3 2024-01-17     42102.843831\n",
      "4 2024-01-18     41908.408232\n",
      "5 2024-01-19     41736.547339\n",
      "6 2024-01-20     41577.588598\n"
     ]
    }
   ],
   "source": [
    "# Asume que `last_date` es la fecha del último dato conocido en tu conjunto de datos.\n",
    "# Por ejemplo, si el último dato conocido es del 2024-03-31, entonces:\n",
    "last_date = pd.to_datetime(\"2024-01-13\")\n",
    "\n",
    "# Ahora, generamos un rango de fechas para las predicciones\n",
    "prediction_dates = pd.date_range(start=last_date + pd.Timedelta(days=1), periods=len(predicted_prices), freq='D')\n",
    "\n",
    "# Finalmente, creamos un DataFrame para visualizar mejor las predicciones con sus fechas correspondientes\n",
    "predictions_df = pd.DataFrame({\n",
    "    'Date': prediction_dates,\n",
    "    'Predicted Price': predicted_prices\n",
    "})\n",
    "\n",
    "print(predictions_df)"
   ]
  }
 ],
 "metadata": {
  "kernelspec": {
   "display_name": "Python 3",
   "language": "python",
   "name": "python3"
  },
  "language_info": {
   "codemirror_mode": {
    "name": "ipython",
    "version": 3
   },
   "file_extension": ".py",
   "mimetype": "text/x-python",
   "name": "python",
   "nbconvert_exporter": "python",
   "pygments_lexer": "ipython3",
   "version": "3.12.2"
  }
 },
 "nbformat": 4,
 "nbformat_minor": 2
}
