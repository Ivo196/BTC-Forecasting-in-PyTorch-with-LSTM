{
 "cells": [
  {
   "cell_type": "markdown",
   "metadata": {},
   "source": [
    "## Amazon Stock Forecasting in PyTorch with LSTM Neural Network"
   ]
  },
  {
   "cell_type": "code",
   "execution_count": 93,
   "metadata": {},
   "outputs": [
    {
     "data": {
      "text/html": [
       "<div>\n",
       "<style scoped>\n",
       "    .dataframe tbody tr th:only-of-type {\n",
       "        vertical-align: middle;\n",
       "    }\n",
       "\n",
       "    .dataframe tbody tr th {\n",
       "        vertical-align: top;\n",
       "    }\n",
       "\n",
       "    .dataframe thead th {\n",
       "        text-align: right;\n",
       "    }\n",
       "</style>\n",
       "<table border=\"1\" class=\"dataframe\">\n",
       "  <thead>\n",
       "    <tr style=\"text-align: right;\">\n",
       "      <th></th>\n",
       "      <th>Date</th>\n",
       "      <th>Open</th>\n",
       "      <th>High</th>\n",
       "      <th>Low</th>\n",
       "      <th>Close</th>\n",
       "      <th>Adj Close</th>\n",
       "      <th>Volume</th>\n",
       "    </tr>\n",
       "  </thead>\n",
       "  <tbody>\n",
       "    <tr>\n",
       "      <th>0</th>\n",
       "      <td>2020-01-01</td>\n",
       "      <td>7194.892090</td>\n",
       "      <td>7254.330566</td>\n",
       "      <td>7174.944336</td>\n",
       "      <td>7200.174316</td>\n",
       "      <td>7200.174316</td>\n",
       "      <td>18565664997</td>\n",
       "    </tr>\n",
       "    <tr>\n",
       "      <th>1</th>\n",
       "      <td>2020-01-02</td>\n",
       "      <td>7202.551270</td>\n",
       "      <td>7212.155273</td>\n",
       "      <td>6935.270020</td>\n",
       "      <td>6985.470215</td>\n",
       "      <td>6985.470215</td>\n",
       "      <td>20802083465</td>\n",
       "    </tr>\n",
       "    <tr>\n",
       "      <th>2</th>\n",
       "      <td>2020-01-03</td>\n",
       "      <td>6984.428711</td>\n",
       "      <td>7413.715332</td>\n",
       "      <td>6914.996094</td>\n",
       "      <td>7344.884277</td>\n",
       "      <td>7344.884277</td>\n",
       "      <td>28111481032</td>\n",
       "    </tr>\n",
       "    <tr>\n",
       "      <th>3</th>\n",
       "      <td>2020-01-04</td>\n",
       "      <td>7345.375488</td>\n",
       "      <td>7427.385742</td>\n",
       "      <td>7309.514160</td>\n",
       "      <td>7410.656738</td>\n",
       "      <td>7410.656738</td>\n",
       "      <td>18444271275</td>\n",
       "    </tr>\n",
       "    <tr>\n",
       "      <th>4</th>\n",
       "      <td>2020-01-05</td>\n",
       "      <td>7410.451660</td>\n",
       "      <td>7544.497070</td>\n",
       "      <td>7400.535645</td>\n",
       "      <td>7411.317383</td>\n",
       "      <td>7411.317383</td>\n",
       "      <td>19725074095</td>\n",
       "    </tr>\n",
       "    <tr>\n",
       "      <th>...</th>\n",
       "      <td>...</td>\n",
       "      <td>...</td>\n",
       "      <td>...</td>\n",
       "      <td>...</td>\n",
       "      <td>...</td>\n",
       "      <td>...</td>\n",
       "      <td>...</td>\n",
       "    </tr>\n",
       "    <tr>\n",
       "      <th>1547</th>\n",
       "      <td>2024-03-27</td>\n",
       "      <td>69991.898438</td>\n",
       "      <td>71727.687500</td>\n",
       "      <td>68381.929688</td>\n",
       "      <td>69455.343750</td>\n",
       "      <td>69455.343750</td>\n",
       "      <td>40827113309</td>\n",
       "    </tr>\n",
       "    <tr>\n",
       "      <th>1548</th>\n",
       "      <td>2024-03-28</td>\n",
       "      <td>69452.773438</td>\n",
       "      <td>71546.023438</td>\n",
       "      <td>68895.507813</td>\n",
       "      <td>70744.953125</td>\n",
       "      <td>70744.953125</td>\n",
       "      <td>34374900617</td>\n",
       "    </tr>\n",
       "    <tr>\n",
       "      <th>1549</th>\n",
       "      <td>2024-03-29</td>\n",
       "      <td>70744.796875</td>\n",
       "      <td>70913.093750</td>\n",
       "      <td>69076.656250</td>\n",
       "      <td>69892.828125</td>\n",
       "      <td>69892.828125</td>\n",
       "      <td>25230851763</td>\n",
       "    </tr>\n",
       "    <tr>\n",
       "      <th>1550</th>\n",
       "      <td>2024-03-30</td>\n",
       "      <td>69893.445313</td>\n",
       "      <td>70355.492188</td>\n",
       "      <td>69601.062500</td>\n",
       "      <td>69645.304688</td>\n",
       "      <td>69645.304688</td>\n",
       "      <td>17130241883</td>\n",
       "    </tr>\n",
       "    <tr>\n",
       "      <th>1551</th>\n",
       "      <td>2024-03-31</td>\n",
       "      <td>69647.742188</td>\n",
       "      <td>70718.617188</td>\n",
       "      <td>69647.742188</td>\n",
       "      <td>70466.281250</td>\n",
       "      <td>70466.281250</td>\n",
       "      <td>18119962624</td>\n",
       "    </tr>\n",
       "  </tbody>\n",
       "</table>\n",
       "<p>1552 rows × 7 columns</p>\n",
       "</div>"
      ],
      "text/plain": [
       "            Date          Open          High           Low         Close  \\\n",
       "0     2020-01-01   7194.892090   7254.330566   7174.944336   7200.174316   \n",
       "1     2020-01-02   7202.551270   7212.155273   6935.270020   6985.470215   \n",
       "2     2020-01-03   6984.428711   7413.715332   6914.996094   7344.884277   \n",
       "3     2020-01-04   7345.375488   7427.385742   7309.514160   7410.656738   \n",
       "4     2020-01-05   7410.451660   7544.497070   7400.535645   7411.317383   \n",
       "...          ...           ...           ...           ...           ...   \n",
       "1547  2024-03-27  69991.898438  71727.687500  68381.929688  69455.343750   \n",
       "1548  2024-03-28  69452.773438  71546.023438  68895.507813  70744.953125   \n",
       "1549  2024-03-29  70744.796875  70913.093750  69076.656250  69892.828125   \n",
       "1550  2024-03-30  69893.445313  70355.492188  69601.062500  69645.304688   \n",
       "1551  2024-03-31  69647.742188  70718.617188  69647.742188  70466.281250   \n",
       "\n",
       "         Adj Close       Volume  \n",
       "0      7200.174316  18565664997  \n",
       "1      6985.470215  20802083465  \n",
       "2      7344.884277  28111481032  \n",
       "3      7410.656738  18444271275  \n",
       "4      7411.317383  19725074095  \n",
       "...            ...          ...  \n",
       "1547  69455.343750  40827113309  \n",
       "1548  70744.953125  34374900617  \n",
       "1549  69892.828125  25230851763  \n",
       "1550  69645.304688  17130241883  \n",
       "1551  70466.281250  18119962624  \n",
       "\n",
       "[1552 rows x 7 columns]"
      ]
     },
     "execution_count": 93,
     "metadata": {},
     "output_type": "execute_result"
    }
   ],
   "source": [
    "import pandas as pd \n",
    "import matplotlib.pyplot as plt\n",
    "import numpy as np\n",
    " \n",
    "import torch\n",
    "import torch.nn as nn\n",
    "\n",
    "data = pd.read_csv('BTC-USD.csv')\n",
    "data"
   ]
  },
  {
   "cell_type": "code",
   "execution_count": 94,
   "metadata": {},
   "outputs": [
    {
     "data": {
      "text/html": [
       "<div>\n",
       "<style scoped>\n",
       "    .dataframe tbody tr th:only-of-type {\n",
       "        vertical-align: middle;\n",
       "    }\n",
       "\n",
       "    .dataframe tbody tr th {\n",
       "        vertical-align: top;\n",
       "    }\n",
       "\n",
       "    .dataframe thead th {\n",
       "        text-align: right;\n",
       "    }\n",
       "</style>\n",
       "<table border=\"1\" class=\"dataframe\">\n",
       "  <thead>\n",
       "    <tr style=\"text-align: right;\">\n",
       "      <th></th>\n",
       "      <th>Date</th>\n",
       "      <th>Close</th>\n",
       "    </tr>\n",
       "  </thead>\n",
       "  <tbody>\n",
       "    <tr>\n",
       "      <th>0</th>\n",
       "      <td>2020-01-01</td>\n",
       "      <td>7200.174316</td>\n",
       "    </tr>\n",
       "    <tr>\n",
       "      <th>1</th>\n",
       "      <td>2020-01-02</td>\n",
       "      <td>6985.470215</td>\n",
       "    </tr>\n",
       "    <tr>\n",
       "      <th>2</th>\n",
       "      <td>2020-01-03</td>\n",
       "      <td>7344.884277</td>\n",
       "    </tr>\n",
       "    <tr>\n",
       "      <th>3</th>\n",
       "      <td>2020-01-04</td>\n",
       "      <td>7410.656738</td>\n",
       "    </tr>\n",
       "    <tr>\n",
       "      <th>4</th>\n",
       "      <td>2020-01-05</td>\n",
       "      <td>7411.317383</td>\n",
       "    </tr>\n",
       "    <tr>\n",
       "      <th>...</th>\n",
       "      <td>...</td>\n",
       "      <td>...</td>\n",
       "    </tr>\n",
       "    <tr>\n",
       "      <th>1547</th>\n",
       "      <td>2024-03-27</td>\n",
       "      <td>69455.343750</td>\n",
       "    </tr>\n",
       "    <tr>\n",
       "      <th>1548</th>\n",
       "      <td>2024-03-28</td>\n",
       "      <td>70744.953125</td>\n",
       "    </tr>\n",
       "    <tr>\n",
       "      <th>1549</th>\n",
       "      <td>2024-03-29</td>\n",
       "      <td>69892.828125</td>\n",
       "    </tr>\n",
       "    <tr>\n",
       "      <th>1550</th>\n",
       "      <td>2024-03-30</td>\n",
       "      <td>69645.304688</td>\n",
       "    </tr>\n",
       "    <tr>\n",
       "      <th>1551</th>\n",
       "      <td>2024-03-31</td>\n",
       "      <td>70466.281250</td>\n",
       "    </tr>\n",
       "  </tbody>\n",
       "</table>\n",
       "<p>1552 rows × 2 columns</p>\n",
       "</div>"
      ],
      "text/plain": [
       "            Date         Close\n",
       "0     2020-01-01   7200.174316\n",
       "1     2020-01-02   6985.470215\n",
       "2     2020-01-03   7344.884277\n",
       "3     2020-01-04   7410.656738\n",
       "4     2020-01-05   7411.317383\n",
       "...          ...           ...\n",
       "1547  2024-03-27  69455.343750\n",
       "1548  2024-03-28  70744.953125\n",
       "1549  2024-03-29  69892.828125\n",
       "1550  2024-03-30  69645.304688\n",
       "1551  2024-03-31  70466.281250\n",
       "\n",
       "[1552 rows x 2 columns]"
      ]
     },
     "execution_count": 94,
     "metadata": {},
     "output_type": "execute_result"
    }
   ],
   "source": [
    "data = data[['Date','Close']]\n",
    "data"
   ]
  },
  {
   "cell_type": "code",
   "execution_count": 95,
   "metadata": {},
   "outputs": [
    {
     "data": {
      "text/plain": [
       "'cuda:0'"
      ]
     },
     "execution_count": 95,
     "metadata": {},
     "output_type": "execute_result"
    }
   ],
   "source": [
    "device = 'cuda:0' if torch.cuda.is_available() else 'cpu'\n",
    "device"
   ]
  },
  {
   "cell_type": "code",
   "execution_count": 96,
   "metadata": {},
   "outputs": [
    {
     "name": "stdout",
     "output_type": "stream",
     "text": [
      "<class 'pandas.core.series.Series'>\n",
      "RangeIndex: 1552 entries, 0 to 1551\n",
      "Series name: Date\n",
      "Non-Null Count  Dtype         \n",
      "--------------  -----         \n",
      "1552 non-null   datetime64[ns]\n",
      "dtypes: datetime64[ns](1)\n",
      "memory usage: 12.3 KB\n"
     ]
    },
    {
     "name": "stderr",
     "output_type": "stream",
     "text": [
      "C:\\Users\\ivoto\\AppData\\Local\\Temp\\ipykernel_10076\\4140636855.py:1: SettingWithCopyWarning: \n",
      "A value is trying to be set on a copy of a slice from a DataFrame.\n",
      "Try using .loc[row_indexer,col_indexer] = value instead\n",
      "\n",
      "See the caveats in the documentation: https://pandas.pydata.org/pandas-docs/stable/user_guide/indexing.html#returning-a-view-versus-a-copy\n",
      "  data['Date'] = pd.to_datetime(data['Date'])\n"
     ]
    }
   ],
   "source": [
    "data['Date'] = pd.to_datetime(data['Date'])\n",
    "data['Date'].info()"
   ]
  },
  {
   "cell_type": "code",
   "execution_count": 97,
   "metadata": {},
   "outputs": [
    {
     "data": {
      "text/plain": [
       "[<matplotlib.lines.Line2D at 0x21ee3bec500>]"
      ]
     },
     "execution_count": 97,
     "metadata": {},
     "output_type": "execute_result"
    },
    {
     "data": {
      "image/png": "[encoded data removed]",
      "text/plain": [
       "<Figure size 640x480 with 1 Axes>"
      ]
     },
     "metadata": {},
     "output_type": "display_data"
    }
   ],
   "source": [
    "plt.plot(data['Date'],data['Close'])"
   ]
  },
  {
   "cell_type": "code",
   "execution_count": 98,
   "metadata": {},
   "outputs": [
    {
     "data": {
      "text/html": [
       "<div>\n",
       "<style scoped>\n",
       "    .dataframe tbody tr th:only-of-type {\n",
       "        vertical-align: middle;\n",
       "    }\n",
       "\n",
       "    .dataframe tbody tr th {\n",
       "        vertical-align: top;\n",
       "    }\n",
       "\n",
       "    .dataframe thead th {\n",
       "        text-align: right;\n",
       "    }\n",
       "</style>\n",
       "<table border=\"1\" class=\"dataframe\">\n",
       "  <thead>\n",
       "    <tr style=\"text-align: right;\">\n",
       "      <th></th>\n",
       "      <th>Close</th>\n",
       "      <th>Close(t-1)</th>\n",
       "      <th>Close(t-2)</th>\n",
       "      <th>Close(t-3)</th>\n",
       "      <th>Close(t-4)</th>\n",
       "      <th>Close(t-5)</th>\n",
       "      <th>Close(t-6)</th>\n",
       "      <th>Close(t-7)</th>\n",
       "    </tr>\n",
       "    <tr>\n",
       "      <th>Date</th>\n",
       "      <th></th>\n",
       "      <th></th>\n",
       "      <th></th>\n",
       "      <th></th>\n",
       "      <th></th>\n",
       "      <th></th>\n",
       "      <th></th>\n",
       "      <th></th>\n",
       "    </tr>\n",
       "  </thead>\n",
       "  <tbody>\n",
       "    <tr>\n",
       "      <th>2020-01-08</th>\n",
       "      <td>8079.862793</td>\n",
       "      <td>8163.692383</td>\n",
       "      <td>7769.219238</td>\n",
       "      <td>7411.317383</td>\n",
       "      <td>7410.656738</td>\n",
       "      <td>7344.884277</td>\n",
       "      <td>6985.470215</td>\n",
       "      <td>7200.174316</td>\n",
       "    </tr>\n",
       "    <tr>\n",
       "      <th>2020-01-09</th>\n",
       "      <td>7879.071289</td>\n",
       "      <td>8079.862793</td>\n",
       "      <td>8163.692383</td>\n",
       "      <td>7769.219238</td>\n",
       "      <td>7411.317383</td>\n",
       "      <td>7410.656738</td>\n",
       "      <td>7344.884277</td>\n",
       "      <td>6985.470215</td>\n",
       "    </tr>\n",
       "    <tr>\n",
       "      <th>2020-01-10</th>\n",
       "      <td>8166.554199</td>\n",
       "      <td>7879.071289</td>\n",
       "      <td>8079.862793</td>\n",
       "      <td>8163.692383</td>\n",
       "      <td>7769.219238</td>\n",
       "      <td>7411.317383</td>\n",
       "      <td>7410.656738</td>\n",
       "      <td>7344.884277</td>\n",
       "    </tr>\n",
       "    <tr>\n",
       "      <th>2020-01-11</th>\n",
       "      <td>8037.537598</td>\n",
       "      <td>8166.554199</td>\n",
       "      <td>7879.071289</td>\n",
       "      <td>8079.862793</td>\n",
       "      <td>8163.692383</td>\n",
       "      <td>7769.219238</td>\n",
       "      <td>7411.317383</td>\n",
       "      <td>7410.656738</td>\n",
       "    </tr>\n",
       "    <tr>\n",
       "      <th>2020-01-12</th>\n",
       "      <td>8192.494141</td>\n",
       "      <td>8037.537598</td>\n",
       "      <td>8166.554199</td>\n",
       "      <td>7879.071289</td>\n",
       "      <td>8079.862793</td>\n",
       "      <td>8163.692383</td>\n",
       "      <td>7769.219238</td>\n",
       "      <td>7411.317383</td>\n",
       "    </tr>\n",
       "    <tr>\n",
       "      <th>...</th>\n",
       "      <td>...</td>\n",
       "      <td>...</td>\n",
       "      <td>...</td>\n",
       "      <td>...</td>\n",
       "      <td>...</td>\n",
       "      <td>...</td>\n",
       "      <td>...</td>\n",
       "      <td>...</td>\n",
       "    </tr>\n",
       "    <tr>\n",
       "      <th>2024-03-27</th>\n",
       "      <td>69455.343750</td>\n",
       "      <td>69987.835938</td>\n",
       "      <td>69958.812500</td>\n",
       "      <td>67234.171875</td>\n",
       "      <td>64062.203125</td>\n",
       "      <td>63778.761719</td>\n",
       "      <td>65491.390625</td>\n",
       "      <td>67913.671875</td>\n",
       "    </tr>\n",
       "    <tr>\n",
       "      <th>2024-03-28</th>\n",
       "      <td>70744.953125</td>\n",
       "      <td>69455.343750</td>\n",
       "      <td>69987.835938</td>\n",
       "      <td>69958.812500</td>\n",
       "      <td>67234.171875</td>\n",
       "      <td>64062.203125</td>\n",
       "      <td>63778.761719</td>\n",
       "      <td>65491.390625</td>\n",
       "    </tr>\n",
       "    <tr>\n",
       "      <th>2024-03-29</th>\n",
       "      <td>69892.828125</td>\n",
       "      <td>70744.953125</td>\n",
       "      <td>69455.343750</td>\n",
       "      <td>69987.835938</td>\n",
       "      <td>69958.812500</td>\n",
       "      <td>67234.171875</td>\n",
       "      <td>64062.203125</td>\n",
       "      <td>63778.761719</td>\n",
       "    </tr>\n",
       "    <tr>\n",
       "      <th>2024-03-30</th>\n",
       "      <td>69645.304688</td>\n",
       "      <td>69892.828125</td>\n",
       "      <td>70744.953125</td>\n",
       "      <td>69455.343750</td>\n",
       "      <td>69987.835938</td>\n",
       "      <td>69958.812500</td>\n",
       "      <td>67234.171875</td>\n",
       "      <td>64062.203125</td>\n",
       "    </tr>\n",
       "    <tr>\n",
       "      <th>2024-03-31</th>\n",
       "      <td>70466.281250</td>\n",
       "      <td>69645.304688</td>\n",
       "      <td>69892.828125</td>\n",
       "      <td>70744.953125</td>\n",
       "      <td>69455.343750</td>\n",
       "      <td>69987.835938</td>\n",
       "      <td>69958.812500</td>\n",
       "      <td>67234.171875</td>\n",
       "    </tr>\n",
       "  </tbody>\n",
       "</table>\n",
       "<p>1545 rows × 8 columns</p>\n",
       "</div>"
      ],
      "text/plain": [
       "                   Close    Close(t-1)    Close(t-2)    Close(t-3)  \\\n",
       "Date                                                                 \n",
       "2020-01-08   8079.862793   8163.692383   7769.219238   7411.317383   \n",
       "2020-01-09   7879.071289   8079.862793   8163.692383   7769.219238   \n",
       "2020-01-10   8166.554199   7879.071289   8079.862793   8163.692383   \n",
       "2020-01-11   8037.537598   8166.554199   7879.071289   8079.862793   \n",
       "2020-01-12   8192.494141   8037.537598   8166.554199   7879.071289   \n",
       "...                  ...           ...           ...           ...   \n",
       "2024-03-27  69455.343750  69987.835938  69958.812500  67234.171875   \n",
       "2024-03-28  70744.953125  69455.343750  69987.835938  69958.812500   \n",
       "2024-03-29  69892.828125  70744.953125  69455.343750  69987.835938   \n",
       "2024-03-30  69645.304688  69892.828125  70744.953125  69455.343750   \n",
       "2024-03-31  70466.281250  69645.304688  69892.828125  70744.953125   \n",
       "\n",
       "              Close(t-4)    Close(t-5)    Close(t-6)    Close(t-7)  \n",
       "Date                                                                \n",
       "2020-01-08   7410.656738   7344.884277   6985.470215   7200.174316  \n",
       "2020-01-09   7411.317383   7410.656738   7344.884277   6985.470215  \n",
       "2020-01-10   7769.219238   7411.317383   7410.656738   7344.884277  \n",
       "2020-01-11   8163.692383   7769.219238   7411.317383   7410.656738  \n",
       "2020-01-12   8079.862793   8163.692383   7769.219238   7411.317383  \n",
       "...                  ...           ...           ...           ...  \n",
       "2024-03-27  64062.203125  63778.761719  65491.390625  67913.671875  \n",
       "2024-03-28  67234.171875  64062.203125  63778.761719  65491.390625  \n",
       "2024-03-29  69958.812500  67234.171875  64062.203125  63778.761719  \n",
       "2024-03-30  69987.835938  69958.812500  67234.171875  64062.203125  \n",
       "2024-03-31  69455.343750  69987.835938  69958.812500  67234.171875  \n",
       "\n",
       "[1545 rows x 8 columns]"
      ]
     },
     "execution_count": 98,
     "metadata": {},
     "output_type": "execute_result"
    }
   ],
   "source": [
    "from copy import deepcopy as dc\n",
    "\n",
    "def prepare_dataframe_for_lstm(df, n_steps):\n",
    "    df = dc(df)\n",
    "    \n",
    "    df.set_index('Date', inplace=True)\n",
    "    \n",
    "    for i in range(1, n_steps+1):\n",
    "        df[f'Close(t-{i})'] = df['Close'].shift(i)\n",
    "        \n",
    "    df.dropna(inplace=True)\n",
    "    \n",
    "    return df\n",
    "\n",
    "lookback = 7\n",
    "shifted_df = prepare_dataframe_for_lstm(data, lookback)\n",
    "shifted_df"
   ]
  },
  {
   "cell_type": "markdown",
   "metadata": {},
   "source": [
    "En el cuadro aterior vemos para el dia actual, y los precios de los 7 (n-dias) anteriores"
   ]
  },
  {
   "cell_type": "code",
   "execution_count": 99,
   "metadata": {},
   "outputs": [
    {
     "data": {
      "text/plain": [
       "array([[ 8079.862793,  8163.692383,  7769.219238, ...,  7344.884277,\n",
       "         6985.470215,  7200.174316],\n",
       "       [ 7879.071289,  8079.862793,  8163.692383, ...,  7410.656738,\n",
       "         7344.884277,  6985.470215],\n",
       "       [ 8166.554199,  7879.071289,  8079.862793, ...,  7411.317383,\n",
       "         7410.656738,  7344.884277],\n",
       "       ...,\n",
       "       [69892.828125, 70744.953125, 69455.34375 , ..., 67234.171875,\n",
       "        64062.203125, 63778.761719],\n",
       "       [69645.304688, 69892.828125, 70744.953125, ..., 69958.8125  ,\n",
       "        67234.171875, 64062.203125],\n",
       "       [70466.28125 , 69645.304688, 69892.828125, ..., 69987.835938,\n",
       "        69958.8125  , 67234.171875]])"
      ]
     },
     "execution_count": 99,
     "metadata": {},
     "output_type": "execute_result"
    }
   ],
   "source": [
    "shifted_df_as_np = shifted_df.to_numpy()\n",
    "\n",
    "shifted_df_as_np"
   ]
  },
  {
   "cell_type": "code",
   "execution_count": 100,
   "metadata": {},
   "outputs": [
    {
     "data": {
      "text/plain": [
       "(1545, 8)"
      ]
     },
     "execution_count": 100,
     "metadata": {},
     "output_type": "execute_result"
    }
   ],
   "source": [
    "#Normalizamos los datos \n",
    "from sklearn.preprocessing import MinMaxScaler\n",
    "\n",
    "scaler = MinMaxScaler(feature_range=(-1, 1))\n",
    "shifted_df_as_np = scaler.fit_transform(shifted_df_as_np)\n",
    "\n",
    "shifted_df_as_np.shape"
   ]
  },
  {
   "cell_type": "markdown",
   "metadata": {},
   "source": [
    "- Hasta ahora, leemos el CSV, lo convertimos a DataFrame con pandas\n",
    "- Luego lo analizamos y para trabajar con el lo pasamos de DataFrame a una matriz de NumPy \n",
    "- Y por ultimo Escalamos las variables con un rango de -1 a 1 "
   ]
  },
  {
   "cell_type": "markdown",
   "metadata": {},
   "source": [
    "#### Division del conjunto de entrenamiento y test"
   ]
  },
  {
   "cell_type": "code",
   "execution_count": 101,
   "metadata": {},
   "outputs": [
    {
     "data": {
      "text/plain": [
       "((1545, 7), (1545,))"
      ]
     },
     "execution_count": 101,
     "metadata": {},
     "output_type": "execute_result"
    }
   ],
   "source": [
    "X = shifted_df_as_np[:, 1:]\n",
    "y = shifted_df_as_np[:, 0]\n",
    "\n",
    "X.shape, y.shape"
   ]
  },
  {
   "cell_type": "code",
   "execution_count": 102,
   "metadata": {},
   "outputs": [
    {
     "data": {
      "text/plain": [
       "array([[-0.93453832, -0.9408427 , -0.93028919, ..., -0.92833851,\n",
       "        -0.9178294 , -0.90624645],\n",
       "       [-0.9408427 , -0.93028919, -0.92835791, ..., -0.9178294 ,\n",
       "        -0.90624645, -0.90870795],\n",
       "       [-0.93028919, -0.92835791, -0.92833851, ..., -0.90624645,\n",
       "        -0.90870795, -0.91460381],\n",
       "       ...,\n",
       "       [ 0.72678409,  0.73510681,  0.82824563, ...,  0.90910172,\n",
       "         0.8934661 ,  0.93133303],\n",
       "       [ 0.73510681,  0.82824563,  0.90824951, ...,  0.8934661 ,\n",
       "         0.93133303,  0.906312  ],\n",
       "       [ 0.82824563,  0.90824951,  0.90910172, ...,  0.93133303,\n",
       "         0.906312  ,  0.89904395]])"
      ]
     },
     "execution_count": 102,
     "metadata": {},
     "output_type": "execute_result"
    }
   ],
   "source": [
    "X = dc(np.flip(X, axis=1 ))\n",
    "X"
   ]
  },
  {
   "cell_type": "code",
   "execution_count": 103,
   "metadata": {},
   "outputs": [
    {
     "data": {
      "text/plain": [
       "1467"
      ]
     },
     "execution_count": 103,
     "metadata": {},
     "output_type": "execute_result"
    }
   ],
   "source": [
    "split_index = int(len(X) * 0.95)\n",
    "\n",
    "split_index"
   ]
  },
  {
   "cell_type": "code",
   "execution_count": 104,
   "metadata": {},
   "outputs": [
    {
     "data": {
      "text/plain": [
       "((1467, 7), (78, 7), (1467,), (78,))"
      ]
     },
     "execution_count": 104,
     "metadata": {},
     "output_type": "execute_result"
    }
   ],
   "source": [
    "X_train = X[:split_index]\n",
    "X_test = X[split_index:]\n",
    "\n",
    "y_train = y[:split_index]\n",
    "y_test = y[split_index:]\n",
    "\n",
    "X_train.shape, X_test.shape, y_train.shape, y_test.shape"
   ]
  },
  {
   "cell_type": "markdown",
   "metadata": {},
   "source": [
    "#### Agregamos un dimension"
   ]
  },
  {
   "cell_type": "code",
   "execution_count": 105,
   "metadata": {},
   "outputs": [
    {
     "data": {
      "text/plain": [
       "((1467, 7, 1), (78, 7, 1), (1467, 1), (78, 1))"
      ]
     },
     "execution_count": 105,
     "metadata": {},
     "output_type": "execute_result"
    }
   ],
   "source": [
    "X_train = X_train.reshape((-1, lookback, 1))\n",
    "X_test = X_test.reshape((-1, lookback, 1))\n",
    "\n",
    "y_train = y_train.reshape((-1, 1))\n",
    "y_test = y_test.reshape((-1, 1))\n",
    "\n",
    "X_train.shape, X_test.shape, y_train.shape, y_test.shape"
   ]
  },
  {
   "cell_type": "markdown",
   "metadata": {},
   "source": [
    "#### Convertimos a los conjuntos a Tensores de Pytorch "
   ]
  },
  {
   "cell_type": "code",
   "execution_count": 106,
   "metadata": {},
   "outputs": [
    {
     "data": {
      "text/plain": [
       "(torch.Size([1467, 7, 1]),\n",
       " torch.Size([78, 7, 1]),\n",
       " torch.Size([1467, 1]),\n",
       " torch.Size([78, 1]))"
      ]
     },
     "execution_count": 106,
     "metadata": {},
     "output_type": "execute_result"
    }
   ],
   "source": [
    "X_train = torch.tensor(X_train).float()\n",
    "y_train = torch.tensor(y_train).float()\n",
    "X_test = torch.tensor(X_test).float()\n",
    "y_test = torch.tensor(y_test).float()\n",
    "\n",
    "X_train.shape, X_test.shape, y_train.shape, y_test.shape"
   ]
  },
  {
   "cell_type": "code",
   "execution_count": 107,
   "metadata": {},
   "outputs": [],
   "source": [
    "from torch.utils.data import Dataset\n",
    "\n",
    "class TimeSeriesDataset(Dataset):\n",
    "    def __init__(self, X, y):\n",
    "        self.X = X\n",
    "        self.y = y\n",
    "    def __len__(self):\n",
    "        return len(self.X)\n",
    "    def __getitem__(self, i):\n",
    "        return self.X[i], self.y[i]\n",
    "    \n",
    "train_dataset = TimeSeriesDataset(X_train, y_train)\n",
    "test_dataset = TimeSeriesDataset(X_test, y_test)"
   ]
  },
  {
   "cell_type": "code",
   "execution_count": 108,
   "metadata": {},
   "outputs": [
    {
     "name": "stdout",
     "output_type": "stream",
     "text": [
      "torch.Size([7, 1])\n",
      "torch.Size([1])\n"
     ]
    }
   ],
   "source": [
    "x_sample, y_sample = train_dataset[10]\n",
    "print(x_sample.shape)  # Imprimirá torch.Size([7, 1])\n",
    "print(y_sample.shape)  # Imprimirá torch.Size([1])"
   ]
  },
  {
   "cell_type": "code",
   "execution_count": 109,
   "metadata": {},
   "outputs": [],
   "source": [
    "from torch.utils.data import DataLoader\n",
    "\n",
    "batch_size = 16 \n",
    "train_loader = DataLoader(train_dataset, batch_size = batch_size, shuffle=True)\n",
    "test_loader = DataLoader(test_dataset, batch_size = batch_size, shuffle=False)"
   ]
  },
  {
   "cell_type": "code",
   "execution_count": 110,
   "metadata": {},
   "outputs": [
    {
     "name": "stdout",
     "output_type": "stream",
     "text": [
      "torch.Size([16, 7, 1]) torch.Size([16, 1])\n"
     ]
    }
   ],
   "source": [
    "for _, batch in enumerate(train_loader):\n",
    "    x_batch, y_batch = batch[0].to(device), batch[1].to(device)\n",
    "    print(x_batch.shape, y_batch.shape)\n",
    "    break"
   ]
  },
  {
   "cell_type": "markdown",
   "metadata": {},
   "source": [
    "#### Creamos el modelo"
   ]
  },
  {
   "cell_type": "code",
   "execution_count": 111,
   "metadata": {},
   "outputs": [
    {
     "data": {
      "text/plain": [
       "LSTM(\n",
       "  (lstm): LSTM(1, 4, batch_first=True)\n",
       "  (fc): Linear(in_features=4, out_features=1, bias=True)\n",
       ")"
      ]
     },
     "execution_count": 111,
     "metadata": {},
     "output_type": "execute_result"
    }
   ],
   "source": [
    "class LSTM(nn.Module):\n",
    "    def __init__(self, input_size, hidden_size, num_stacked_layers):\n",
    "        super().__init__()\n",
    "        self.hidden_size = hidden_size\n",
    "        self.num_stacked_layers = num_stacked_layers\n",
    "\n",
    "        self.lstm = nn.LSTM(input_size, hidden_size, num_stacked_layers, \n",
    "                            batch_first=True)\n",
    "        \n",
    "        self.fc = nn.Linear(hidden_size, 1)\n",
    "\n",
    "    def forward(self, x):\n",
    "        batch_size = x.size(0)\n",
    "        h0 = torch.zeros(self.num_stacked_layers, batch_size, self.hidden_size).to(device)\n",
    "        c0 = torch.zeros(self.num_stacked_layers, batch_size, self.hidden_size).to(device)\n",
    "        \n",
    "        out, _ = self.lstm(x, (h0, c0))\n",
    "        out = self.fc(out[:, -1, :])\n",
    "        return out\n",
    "\n",
    "model = LSTM(1, 4, 1)\n",
    "model.to(device)\n",
    "model"
   ]
  },
  {
   "cell_type": "markdown",
   "metadata": {},
   "source": [
    "#### Funcion y Bucle de entrenamiento "
   ]
  },
  {
   "cell_type": "code",
   "execution_count": 112,
   "metadata": {},
   "outputs": [],
   "source": [
    "def train_one_epoch():\n",
    "    model.train(True)\n",
    "    print(f'Epoch: {epoch + 1}')\n",
    "    running_loss = 0.0\n",
    "\n",
    "    for batch_index, batch in enumerate(train_loader):\n",
    "        x_batch, y_batch = batch[0].to(device), batch[1].to(device) #Pasamos el conjunto de train con sus etiquetas\n",
    "\n",
    "        output = model(x_batch) \n",
    "        loss = loss_function(output, y_batch) #Calculamos el loss con el valor pred y el real\n",
    "        running_loss += loss.item() #Perdida acumulada \n",
    "\n",
    "        optimizer.zero_grad() #Seteamos los gradientes en cero\n",
    "        loss.backward()\n",
    "        optimizer.step()\n",
    "\n",
    "        if batch_index % 100 == 99: #Print every 100 batches \n",
    "            avg_loss_across_batches = running_loss / 100 #Perdida promedio en 100 lotes \n",
    "            print('Batch {0}, loss: {1:.3}'.format(batch_index+1, avg_loss_across_batches))\n",
    "            running_loss = 0.0\n",
    "    print()\n"
   ]
  },
  {
   "cell_type": "code",
   "execution_count": 113,
   "metadata": {},
   "outputs": [],
   "source": [
    "def validate_one_epoch():\n",
    "    model.train(False) #Evaluate mode\n",
    "    running_loss = 0.0\n",
    "\n",
    "    for batch_index, batch in enumerate(test_loader):\n",
    "        x_batch, y_batch = batch[0].to(device), batch[1].to(device) #Pasamos el conjunto de test con sus etiquetas\n",
    "\n",
    "        with torch.no_grad(): #No necesitamos calcular los gradientes\n",
    "            output = model(x_batch)\n",
    "            loss = loss_function(output, y_batch)\n",
    "            running_loss += loss.item()\n",
    "    \n",
    "    avg_loss_across_batches = running_loss / len(test_loader)\n",
    "    \n",
    "    print('Val Loss: {0:.3f}'.format(avg_loss_across_batches))\n",
    "    print('***************************************************')\n",
    "    print()\n"
   ]
  },
  {
   "cell_type": "code",
   "execution_count": 114,
   "metadata": {},
   "outputs": [
    {
     "name": "stdout",
     "output_type": "stream",
     "text": [
      "Epoch: 1\n"
     ]
    },
    {
     "name": "stdout",
     "output_type": "stream",
     "text": [
      "\n",
      "Val Loss: 0.395\n",
      "***************************************************\n",
      "\n",
      "Epoch: 2\n",
      "\n",
      "Val Loss: 0.326\n",
      "***************************************************\n",
      "\n",
      "Epoch: 3\n",
      "\n",
      "Val Loss: 0.207\n",
      "***************************************************\n",
      "\n",
      "Epoch: 4\n",
      "\n",
      "Val Loss: 0.156\n",
      "***************************************************\n",
      "\n",
      "Epoch: 5\n",
      "\n",
      "Val Loss: 0.132\n",
      "***************************************************\n",
      "\n",
      "Epoch: 6\n",
      "\n",
      "Val Loss: 0.116\n",
      "***************************************************\n",
      "\n",
      "Epoch: 7\n",
      "\n",
      "Val Loss: 0.100\n",
      "***************************************************\n",
      "\n",
      "Epoch: 8\n",
      "\n",
      "Val Loss: 0.088\n",
      "***************************************************\n",
      "\n",
      "Epoch: 9\n",
      "\n",
      "Val Loss: 0.077\n",
      "***************************************************\n",
      "\n",
      "Epoch: 10\n",
      "\n",
      "Val Loss: 0.069\n",
      "***************************************************\n",
      "\n",
      "Epoch: 11\n",
      "\n",
      "Val Loss: 0.061\n",
      "***************************************************\n",
      "\n",
      "Epoch: 12\n",
      "\n",
      "Val Loss: 0.056\n",
      "***************************************************\n",
      "\n",
      "Epoch: 13\n",
      "\n",
      "Val Loss: 0.049\n",
      "***************************************************\n",
      "\n",
      "Epoch: 14\n",
      "\n",
      "Val Loss: 0.047\n",
      "***************************************************\n",
      "\n",
      "Epoch: 15\n",
      "\n",
      "Val Loss: 0.042\n",
      "***************************************************\n",
      "\n",
      "Epoch: 16\n",
      "\n",
      "Val Loss: 0.038\n",
      "***************************************************\n",
      "\n",
      "Epoch: 17\n",
      "\n",
      "Val Loss: 0.036\n",
      "***************************************************\n",
      "\n",
      "Epoch: 18\n",
      "\n",
      "Val Loss: 0.034\n",
      "***************************************************\n",
      "\n",
      "Epoch: 19\n",
      "\n",
      "Val Loss: 0.031\n",
      "***************************************************\n",
      "\n",
      "Epoch: 20\n",
      "\n",
      "Val Loss: 0.029\n",
      "***************************************************\n",
      "\n",
      "Epoch: 21\n",
      "\n",
      "Val Loss: 0.027\n",
      "***************************************************\n",
      "\n",
      "Epoch: 22\n",
      "\n",
      "Val Loss: 0.025\n",
      "***************************************************\n",
      "\n",
      "Epoch: 23\n",
      "\n",
      "Val Loss: 0.024\n",
      "***************************************************\n",
      "\n",
      "Epoch: 24\n",
      "\n",
      "Val Loss: 0.022\n",
      "***************************************************\n",
      "\n",
      "Epoch: 25\n",
      "\n",
      "Val Loss: 0.020\n",
      "***************************************************\n",
      "\n",
      "Epoch: 26\n",
      "\n",
      "Val Loss: 0.018\n",
      "***************************************************\n",
      "\n",
      "Epoch: 27\n",
      "\n",
      "Val Loss: 0.018\n",
      "***************************************************\n",
      "\n",
      "Epoch: 28\n",
      "\n",
      "Val Loss: 0.016\n",
      "***************************************************\n",
      "\n",
      "Epoch: 29\n",
      "\n",
      "Val Loss: 0.016\n",
      "***************************************************\n",
      "\n",
      "Epoch: 30\n",
      "\n",
      "Val Loss: 0.014\n",
      "***************************************************\n",
      "\n",
      "Epoch: 31\n",
      "\n",
      "Val Loss: 0.012\n",
      "***************************************************\n",
      "\n",
      "Epoch: 32\n",
      "\n",
      "Val Loss: 0.011\n",
      "***************************************************\n",
      "\n",
      "Epoch: 33\n",
      "\n",
      "Val Loss: 0.011\n",
      "***************************************************\n",
      "\n",
      "Epoch: 34\n",
      "\n",
      "Val Loss: 0.011\n",
      "***************************************************\n",
      "\n",
      "Epoch: 35\n",
      "\n",
      "Val Loss: 0.010\n",
      "***************************************************\n",
      "\n",
      "Epoch: 36\n",
      "\n",
      "Val Loss: 0.010\n",
      "***************************************************\n",
      "\n",
      "Epoch: 37\n",
      "\n",
      "Val Loss: 0.011\n",
      "***************************************************\n",
      "\n",
      "Epoch: 38\n",
      "\n",
      "Val Loss: 0.010\n",
      "***************************************************\n",
      "\n",
      "Epoch: 39\n",
      "\n",
      "Val Loss: 0.010\n",
      "***************************************************\n",
      "\n",
      "Epoch: 40\n",
      "\n",
      "Val Loss: 0.009\n",
      "***************************************************\n",
      "\n",
      "Epoch: 41\n",
      "\n",
      "Val Loss: 0.007\n",
      "***************************************************\n",
      "\n",
      "Epoch: 42\n",
      "\n",
      "Val Loss: 0.009\n",
      "***************************************************\n",
      "\n",
      "Epoch: 43\n",
      "\n",
      "Val Loss: 0.008\n",
      "***************************************************\n",
      "\n",
      "Epoch: 44\n",
      "\n",
      "Val Loss: 0.008\n",
      "***************************************************\n",
      "\n",
      "Epoch: 45\n",
      "\n",
      "Val Loss: 0.008\n",
      "***************************************************\n",
      "\n",
      "Epoch: 46\n",
      "\n",
      "Val Loss: 0.008\n",
      "***************************************************\n",
      "\n",
      "Epoch: 47\n",
      "\n",
      "Val Loss: 0.007\n",
      "***************************************************\n",
      "\n",
      "Epoch: 48\n",
      "\n",
      "Val Loss: 0.007\n",
      "***************************************************\n",
      "\n",
      "Epoch: 49\n",
      "\n",
      "Val Loss: 0.008\n",
      "***************************************************\n",
      "\n",
      "Epoch: 50\n",
      "\n",
      "Val Loss: 0.007\n",
      "***************************************************\n",
      "\n",
      "Epoch: 51\n",
      "\n",
      "Val Loss: 0.006\n",
      "***************************************************\n",
      "\n",
      "Epoch: 52\n",
      "\n",
      "Val Loss: 0.007\n",
      "***************************************************\n",
      "\n",
      "Epoch: 53\n",
      "\n",
      "Val Loss: 0.007\n",
      "***************************************************\n",
      "\n",
      "Epoch: 54\n",
      "\n",
      "Val Loss: 0.007\n",
      "***************************************************\n",
      "\n",
      "Epoch: 55\n",
      "\n",
      "Val Loss: 0.006\n",
      "***************************************************\n",
      "\n",
      "Epoch: 56\n",
      "\n",
      "Val Loss: 0.007\n",
      "***************************************************\n",
      "\n",
      "Epoch: 57\n",
      "\n",
      "Val Loss: 0.006\n",
      "***************************************************\n",
      "\n",
      "Epoch: 58\n",
      "\n",
      "Val Loss: 0.005\n",
      "***************************************************\n",
      "\n",
      "Epoch: 59\n",
      "\n",
      "Val Loss: 0.006\n",
      "***************************************************\n",
      "\n",
      "Epoch: 60\n",
      "\n",
      "Val Loss: 0.006\n",
      "***************************************************\n",
      "\n",
      "Epoch: 61\n",
      "\n",
      "Val Loss: 0.006\n",
      "***************************************************\n",
      "\n",
      "Epoch: 62\n",
      "\n",
      "Val Loss: 0.005\n",
      "***************************************************\n",
      "\n",
      "Epoch: 63\n",
      "\n",
      "Val Loss: 0.005\n",
      "***************************************************\n",
      "\n",
      "Epoch: 64\n",
      "\n",
      "Val Loss: 0.004\n",
      "***************************************************\n",
      "\n",
      "Epoch: 65\n",
      "\n",
      "Val Loss: 0.005\n",
      "***************************************************\n",
      "\n",
      "Epoch: 66\n",
      "\n",
      "Val Loss: 0.005\n",
      "***************************************************\n",
      "\n",
      "Epoch: 67\n",
      "\n",
      "Val Loss: 0.005\n",
      "***************************************************\n",
      "\n",
      "Epoch: 68\n",
      "\n",
      "Val Loss: 0.005\n",
      "***************************************************\n",
      "\n",
      "Epoch: 69\n",
      "\n",
      "Val Loss: 0.005\n",
      "***************************************************\n",
      "\n",
      "Epoch: 70\n",
      "\n",
      "Val Loss: 0.004\n",
      "***************************************************\n",
      "\n",
      "Epoch: 71\n",
      "\n",
      "Val Loss: 0.006\n",
      "***************************************************\n",
      "\n",
      "Epoch: 72\n",
      "\n",
      "Val Loss: 0.004\n",
      "***************************************************\n",
      "\n",
      "Epoch: 73\n",
      "\n",
      "Val Loss: 0.005\n",
      "***************************************************\n",
      "\n",
      "Epoch: 74\n",
      "\n",
      "Val Loss: 0.005\n",
      "***************************************************\n",
      "\n",
      "Epoch: 75\n",
      "\n",
      "Val Loss: 0.005\n",
      "***************************************************\n",
      "\n",
      "Epoch: 76\n",
      "\n",
      "Val Loss: 0.004\n",
      "***************************************************\n",
      "\n",
      "Epoch: 77\n",
      "\n",
      "Val Loss: 0.005\n",
      "***************************************************\n",
      "\n",
      "Epoch: 78\n",
      "\n",
      "Val Loss: 0.004\n",
      "***************************************************\n",
      "\n",
      "Epoch: 79\n",
      "\n",
      "Val Loss: 0.004\n",
      "***************************************************\n",
      "\n",
      "Epoch: 80\n",
      "\n",
      "Val Loss: 0.004\n",
      "***************************************************\n",
      "\n",
      "Epoch: 81\n",
      "\n",
      "Val Loss: 0.004\n",
      "***************************************************\n",
      "\n",
      "Epoch: 82\n",
      "\n",
      "Val Loss: 0.004\n",
      "***************************************************\n",
      "\n",
      "Epoch: 83\n",
      "\n",
      "Val Loss: 0.004\n",
      "***************************************************\n",
      "\n",
      "Epoch: 84\n",
      "\n",
      "Val Loss: 0.005\n",
      "***************************************************\n",
      "\n",
      "Epoch: 85\n",
      "\n",
      "Val Loss: 0.004\n",
      "***************************************************\n",
      "\n",
      "Epoch: 86\n",
      "\n",
      "Val Loss: 0.005\n",
      "***************************************************\n",
      "\n",
      "Epoch: 87\n",
      "\n",
      "Val Loss: 0.005\n",
      "***************************************************\n",
      "\n",
      "Epoch: 88\n",
      "\n",
      "Val Loss: 0.004\n",
      "***************************************************\n",
      "\n",
      "Epoch: 89\n",
      "\n",
      "Val Loss: 0.005\n",
      "***************************************************\n",
      "\n",
      "Epoch: 90\n",
      "\n",
      "Val Loss: 0.004\n",
      "***************************************************\n",
      "\n",
      "Epoch: 91\n",
      "\n",
      "Val Loss: 0.004\n",
      "***************************************************\n",
      "\n",
      "Epoch: 92\n",
      "\n",
      "Val Loss: 0.004\n",
      "***************************************************\n",
      "\n",
      "Epoch: 93\n",
      "\n",
      "Val Loss: 0.004\n",
      "***************************************************\n",
      "\n",
      "Epoch: 94\n",
      "\n",
      "Val Loss: 0.004\n",
      "***************************************************\n",
      "\n",
      "Epoch: 95\n",
      "\n",
      "Val Loss: 0.003\n",
      "***************************************************\n",
      "\n",
      "Epoch: 96\n",
      "\n",
      "Val Loss: 0.004\n",
      "***************************************************\n",
      "\n",
      "Epoch: 97\n",
      "\n",
      "Val Loss: 0.004\n",
      "***************************************************\n",
      "\n",
      "Epoch: 98\n",
      "\n",
      "Val Loss: 0.004\n",
      "***************************************************\n",
      "\n",
      "Epoch: 99\n",
      "\n",
      "Val Loss: 0.005\n",
      "***************************************************\n",
      "\n",
      "Epoch: 100\n",
      "\n",
      "Val Loss: 0.004\n",
      "***************************************************\n",
      "\n"
     ]
    }
   ],
   "source": [
    "learning_rate = 0.001\n",
    "num_epochs = 100\n",
    "loss_function = nn.MSELoss()\n",
    "optimizer = torch.optim.Adam(model.parameters(), lr=learning_rate)\n",
    "\n",
    "for epoch in range(num_epochs):\n",
    "    train_one_epoch()\n",
    "    validate_one_epoch()"
   ]
  },
  {
   "cell_type": "markdown",
   "metadata": {},
   "source": [
    "### Visualizacion"
   ]
  },
  {
   "cell_type": "code",
   "execution_count": 115,
   "metadata": {},
   "outputs": [
    {
     "data": {
      "image/png": "[encoded data removed]",
      "text/plain": [
       "<Figure size 640x480 with 1 Axes>"
      ]
     },
     "metadata": {},
     "output_type": "display_data"
    }
   ],
   "source": [
    "with torch.no_grad():\n",
    "    predicted = model(X_train.to(device)).to('cpu').numpy() #Es porque numpy no usa GPU \n",
    "\n",
    "plt.plot(y_train, label='Actual Close')\n",
    "plt.plot(predicted, label='Predicted Close')\n",
    "plt.xlabel('Day')\n",
    "plt.ylabel('Close')\n",
    "plt.legend()\n",
    "plt.show()"
   ]
  },
  {
   "cell_type": "markdown",
   "metadata": {},
   "source": [
    "##### Anti-transformada de los Precios "
   ]
  },
  {
   "cell_type": "code",
   "execution_count": 116,
   "metadata": {},
   "outputs": [
    {
     "data": {
      "text/plain": [
       "array([ 8608.93930642,  8647.36969505,  8534.59968608, ...,\n",
       "       46521.66205377, 46317.92740423, 43253.9925073 ])"
      ]
     },
     "execution_count": 116,
     "metadata": {},
     "output_type": "execute_result"
    }
   ],
   "source": [
    "train_predictions = predicted.flatten()\n",
    "\n",
    "dummies = np.zeros((X_train.shape[0], lookback+1))\n",
    "dummies[:, 0] = train_predictions\n",
    "dummies = scaler.inverse_transform(dummies)\n",
    "\n",
    "train_predictions = dc(dummies[:, 0])\n",
    "train_predictions"
   ]
  },
  {
   "cell_type": "code",
   "execution_count": 117,
   "metadata": {},
   "outputs": [
    {
     "data": {
      "text/plain": [
       "array([ 8079.86376967,  7879.07046987,  8166.55340504, ...,\n",
       "       46368.58601286, 42853.16788779, 42842.38293877])"
      ]
     },
     "execution_count": 117,
     "metadata": {},
     "output_type": "execute_result"
    }
   ],
   "source": [
    "dummies = np.zeros((X_train.shape[0], lookback+1))\n",
    "dummies[:, 0] = y_train.flatten()\n",
    "dummies = scaler.inverse_transform(dummies)\n",
    "\n",
    "new_y_train = dc(dummies[:, 0])\n",
    "new_y_train"
   ]
  },
  {
   "cell_type": "code",
   "execution_count": 118,
   "metadata": {},
   "outputs": [
    {
     "data": {
      "image/png": "[encoded data removed]",
      "text/plain": [
       "<Figure size 640x480 with 1 Axes>"
      ]
     },
     "metadata": {},
     "output_type": "display_data"
    }
   ],
   "source": [
    "plt.plot(new_y_train, label='Actual Close')\n",
    "plt.plot(train_predictions, label='Predicted Close')\n",
    "plt.xlabel('Day')\n",
    "plt.ylabel('Close')\n",
    "plt.legend()\n",
    "plt.show()\n"
   ]
  },
  {
   "cell_type": "code",
   "execution_count": 119,
   "metadata": {},
   "outputs": [
    {
     "data": {
      "text/plain": [
       "torch.Size([78, 7, 1])"
      ]
     },
     "execution_count": 119,
     "metadata": {},
     "output_type": "execute_result"
    }
   ],
   "source": [
    "X_test.shape\n"
   ]
  },
  {
   "cell_type": "code",
   "execution_count": 120,
   "metadata": {},
   "outputs": [
    {
     "data": {
      "text/plain": [
       "array([42537.48864428, 41573.3115633 , 42102.35766625, 42871.77740561,\n",
       "       42725.85479221, 41401.97438907, 41416.86687514, 41514.01768776,\n",
       "       41461.48445078, 39685.05942664, 39627.08296723, 39902.37625082,\n",
       "       39887.55075202, 41546.9987642 , 42165.71949546, 42156.85890776,\n",
       "       43158.57016901, 43040.53861517, 42632.30403739, 42932.24863302,\n",
       "       43094.13654362, 42951.14411541, 42552.49582065, 42534.1423261 ,\n",
       "       42912.4417179 , 44060.00403797, 45132.59746343, 46858.17103682,\n",
       "       47678.61984467, 48188.51977048, 49559.91444082, 49644.23922288,\n",
       "       51234.8557945 , 51663.06475556, 51895.3572924 , 51537.36214539,\n",
       "       51774.39859826, 51564.02003038, 51890.7057376 , 51636.79153984,\n",
       "       51159.17439903, 50591.72734125, 51104.47727052, 51373.07182802,\n",
       "       53541.92548123, 55913.1019767 , 60030.47397237, 60325.24227965,\n",
       "       61213.66996292, 61257.41670417, 61959.53048559, 64945.94031492,\n",
       "       63557.63948086, 64434.11298292, 65114.88624693, 66035.92860663,\n",
       "       66474.61802915, 66915.01258195, 68451.87898135, 68738.43018462,\n",
       "       69569.45790491, 69224.42479289, 68317.18586879, 66079.93720717,\n",
       "       66657.66376463, 66312.73823822, 63277.92097821, 65328.67710528,\n",
       "       64667.22256135, 63594.38097854, 63376.56276486, 64912.57253929,\n",
       "       66700.20270527, 67361.31419322, 67438.44900927, 68097.23218243,\n",
       "       67978.8068247 , 67866.36160245])"
      ]
     },
     "execution_count": 120,
     "metadata": {},
     "output_type": "execute_result"
    }
   ],
   "source": [
    "test_predictions = model(X_test.to(device)).detach().cpu().numpy().flatten()\n",
    "\n",
    "dummies = np.zeros((X_test.shape[0], lookback+1))\n",
    "dummies[:, 0] = test_predictions\n",
    "dummies = scaler.inverse_transform(dummies)\n",
    "\n",
    "test_predictions = dc(dummies[:, 0])\n",
    "test_predictions"
   ]
  },
  {
   "cell_type": "code",
   "execution_count": 121,
   "metadata": {},
   "outputs": [
    {
     "data": {
      "text/plain": [
       "array([41796.26952682, 42511.9687815 , 43154.94524473, 42742.65235538,\n",
       "       41262.05855381, 41618.40616944, 41665.58600782, 41545.78512758,\n",
       "       39507.36718492, 39845.55075434, 40077.07420638, 39933.80856403,\n",
       "       41816.87115445, 42120.05473639, 42035.59369615, 43288.24634171,\n",
       "       42952.60946174, 42582.6055795 , 43075.77340697, 43185.85935819,\n",
       "       42992.24993464, 42583.58196958, 42658.6680919 , 43084.67180187,\n",
       "       44318.22267473, 45301.566232  , 47147.19924631, 47771.27743601,\n",
       "       48293.91813587, 49958.22272448, 49742.44153251, 51826.6953499 ,\n",
       "       51938.5549411 , 52160.20360816, 51662.99573838, 52122.54661791,\n",
       "       51779.1445442 , 52284.87502049, 51839.17933945, 51304.97217253,\n",
       "       50731.94893276, 51571.10139583, 51733.23797126, 54522.4027957 ,\n",
       "       57085.37092405, 62504.78852065, 61198.382658  , 62440.6329939 ,\n",
       "       62029.84681044, 63167.37169843, 68330.41483787, 63801.199072  ,\n",
       "       66106.80518857, 66925.48492375, 68300.09396766, 68498.88373939,\n",
       "       69019.78886021, 72123.90545665, 71481.28854248, 73083.5       ,\n",
       "       71396.59431552, 69403.77404952, 65315.11725973, 68390.62420599,\n",
       "       67548.59433557, 61912.77337743, 67913.67287795, 65491.3911921 ,\n",
       "       63778.76239941, 64062.20376984, 67234.1723719 , 69958.81222469,\n",
       "       69987.83597794, 69455.34409089, 70744.95239037, 69892.82774271,\n",
       "       69645.30372367, 70466.28132489])"
      ]
     },
     "execution_count": 121,
     "metadata": {},
     "output_type": "execute_result"
    }
   ],
   "source": [
    "dummies = np.zeros((X_test.shape[0], lookback+1))\n",
    "dummies[:, 0] = y_test.flatten()\n",
    "dummies = scaler.inverse_transform(dummies)\n",
    "\n",
    "new_y_test = dc(dummies[:, 0])\n",
    "new_y_test"
   ]
  },
  {
   "cell_type": "code",
   "execution_count": 122,
   "metadata": {},
   "outputs": [
    {
     "data": {
      "image/png": "[encoded data removed]",
      "text/plain": [
       "<Figure size 640x480 with 1 Axes>"
      ]
     },
     "metadata": {},
     "output_type": "display_data"
    }
   ],
   "source": [
    "plt.plot(new_y_test, label='Actual Close')\n",
    "plt.plot(test_predictions, label='Predicted Close')\n",
    "plt.xlabel('Day')\n",
    "plt.ylabel('Close')\n",
    "plt.legend()\n",
    "plt.show()"
   ]
  }
 ],
 "metadata": {
  "kernelspec": {
   "display_name": "Python 3",
   "language": "python",
   "name": "python3"
  },
  "language_info": {
   "codemirror_mode": {
    "name": "ipython",
    "version": 3
   },
   "file_extension": ".py",
   "mimetype": "text/x-python",
   "name": "python",
   "nbconvert_exporter": "python",
   "pygments_lexer": "ipython3",
   "version": "3.12.2"
  }
 },
 "nbformat": 4,
 "nbformat_minor": 2
}
